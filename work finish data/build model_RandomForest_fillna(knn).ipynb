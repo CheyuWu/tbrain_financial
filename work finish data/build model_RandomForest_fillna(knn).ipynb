{
 "cells": [
  {
   "cell_type": "code",
   "execution_count": 1,
   "metadata": {},
   "outputs": [],
   "source": [
    "import pandas as pd\n",
    "pd.set_option('display.max_rows',500)\n",
    "pd.set_option('display.max_columns',500)"
   ]
  },
  {
   "cell_type": "code",
   "execution_count": 2,
   "metadata": {
    "scrolled": true
   },
   "outputs": [
    {
     "data": {
      "text/html": [
       "<div>\n",
       "<style scoped>\n",
       "    .dataframe tbody tr th:only-of-type {\n",
       "        vertical-align: middle;\n",
       "    }\n",
       "\n",
       "    .dataframe tbody tr th {\n",
       "        vertical-align: top;\n",
       "    }\n",
       "\n",
       "    .dataframe thead th {\n",
       "        text-align: right;\n",
       "    }\n",
       "</style>\n",
       "<table border=\"1\" class=\"dataframe\">\n",
       "  <thead>\n",
       "    <tr style=\"text-align: right;\">\n",
       "      <th></th>\n",
       "      <th>CUST_NO</th>\n",
       "      <th>AGE</th>\n",
       "      <th>CHILDREN_CNT</th>\n",
       "      <th>CUST_START_DT</th>\n",
       "      <th>EDU_CODE</th>\n",
       "      <th>GENDER_CODE</th>\n",
       "      <th>INCOME_RANGE_CODE</th>\n",
       "      <th>WORK_MTHS</th>\n",
       "      <th>CreditCard_b</th>\n",
       "      <th>ForEx_b</th>\n",
       "      <th>Trust_b</th>\n",
       "      <th>Loan_b</th>\n",
       "      <th>cc_BuyFreq</th>\n",
       "      <th>fx_BuyFreq</th>\n",
       "      <th>ln_BuyFreq</th>\n",
       "      <th>wm_BuyFreq</th>\n",
       "      <th>browse_c</th>\n",
       "      <th>freq_c</th>\n",
       "      <th>female</th>\n",
       "      <th>male</th>\n",
       "      <th>avg_income</th>\n",
       "      <th>edu_cut</th>\n",
       "      <th>current_age</th>\n",
       "      <th>assets</th>\n",
       "      <th>freq_c_CUST_START_DT</th>\n",
       "    </tr>\n",
       "  </thead>\n",
       "  <tbody>\n",
       "    <tr>\n",
       "      <th>0</th>\n",
       "      <td>MNEZK2O3OE-JHYBW</td>\n",
       "      <td>4.0</td>\n",
       "      <td>0.0</td>\n",
       "      <td>2912.0</td>\n",
       "      <td>3.0</td>\n",
       "      <td>Female</td>\n",
       "      <td>2.0</td>\n",
       "      <td>2.0</td>\n",
       "      <td>0.0</td>\n",
       "      <td>0.0</td>\n",
       "      <td>0.0</td>\n",
       "      <td>0.0</td>\n",
       "      <td>0.0</td>\n",
       "      <td>1.0</td>\n",
       "      <td>0.0</td>\n",
       "      <td>0.0</td>\n",
       "      <td>0.0</td>\n",
       "      <td>14.0</td>\n",
       "      <td>1</td>\n",
       "      <td>0</td>\n",
       "      <td>2.0</td>\n",
       "      <td>0.0</td>\n",
       "      <td>78.0</td>\n",
       "      <td>4.0</td>\n",
       "      <td>2926.0</td>\n",
       "    </tr>\n",
       "    <tr>\n",
       "      <th>1</th>\n",
       "      <td>W7ADZSWYXEMHB7JQ</td>\n",
       "      <td>4.0</td>\n",
       "      <td>0.0</td>\n",
       "      <td>8332.0</td>\n",
       "      <td>5.0</td>\n",
       "      <td>Female</td>\n",
       "      <td>2.0</td>\n",
       "      <td>1.0</td>\n",
       "      <td>0.0</td>\n",
       "      <td>0.0</td>\n",
       "      <td>0.0</td>\n",
       "      <td>0.0</td>\n",
       "      <td>0.0</td>\n",
       "      <td>0.0</td>\n",
       "      <td>0.0</td>\n",
       "      <td>0.0</td>\n",
       "      <td>0.0</td>\n",
       "      <td>0.0</td>\n",
       "      <td>1</td>\n",
       "      <td>0</td>\n",
       "      <td>2.0</td>\n",
       "      <td>1.0</td>\n",
       "      <td>63.0</td>\n",
       "      <td>2.0</td>\n",
       "      <td>8332.0</td>\n",
       "    </tr>\n",
       "    <tr>\n",
       "      <th>2</th>\n",
       "      <td>ODB6BA6ORHL2UYZE</td>\n",
       "      <td>4.0</td>\n",
       "      <td>0.0</td>\n",
       "      <td>744.0</td>\n",
       "      <td>3.0</td>\n",
       "      <td>Female</td>\n",
       "      <td>2.0</td>\n",
       "      <td>1.0</td>\n",
       "      <td>0.0</td>\n",
       "      <td>0.0</td>\n",
       "      <td>0.0</td>\n",
       "      <td>0.0</td>\n",
       "      <td>0.0</td>\n",
       "      <td>0.0</td>\n",
       "      <td>0.0</td>\n",
       "      <td>0.0</td>\n",
       "      <td>0.0</td>\n",
       "      <td>0.0</td>\n",
       "      <td>1</td>\n",
       "      <td>0</td>\n",
       "      <td>2.0</td>\n",
       "      <td>0.0</td>\n",
       "      <td>84.0</td>\n",
       "      <td>2.0</td>\n",
       "      <td>744.0</td>\n",
       "    </tr>\n",
       "    <tr>\n",
       "      <th>3</th>\n",
       "      <td>SURN2CDMNHCL4SJC</td>\n",
       "      <td>4.0</td>\n",
       "      <td>0.0</td>\n",
       "      <td>4677.0</td>\n",
       "      <td>2.0</td>\n",
       "      <td>Female</td>\n",
       "      <td>2.0</td>\n",
       "      <td>1.0</td>\n",
       "      <td>1.0</td>\n",
       "      <td>23.0</td>\n",
       "      <td>0.0</td>\n",
       "      <td>1.0</td>\n",
       "      <td>0.0</td>\n",
       "      <td>1.0</td>\n",
       "      <td>0.0</td>\n",
       "      <td>0.0</td>\n",
       "      <td>25.0</td>\n",
       "      <td>17.0</td>\n",
       "      <td>1</td>\n",
       "      <td>0</td>\n",
       "      <td>2.0</td>\n",
       "      <td>0.0</td>\n",
       "      <td>73.0</td>\n",
       "      <td>2.0</td>\n",
       "      <td>4694.0</td>\n",
       "    </tr>\n",
       "    <tr>\n",
       "      <th>4</th>\n",
       "      <td>1SMBYIP5SSUNG1DW</td>\n",
       "      <td>4.0</td>\n",
       "      <td>0.0</td>\n",
       "      <td>7936.0</td>\n",
       "      <td>6.0</td>\n",
       "      <td>Female</td>\n",
       "      <td>1.0</td>\n",
       "      <td>1.0</td>\n",
       "      <td>0.0</td>\n",
       "      <td>0.0</td>\n",
       "      <td>0.0</td>\n",
       "      <td>0.0</td>\n",
       "      <td>0.0</td>\n",
       "      <td>0.0</td>\n",
       "      <td>0.0</td>\n",
       "      <td>0.0</td>\n",
       "      <td>0.0</td>\n",
       "      <td>0.0</td>\n",
       "      <td>1</td>\n",
       "      <td>0</td>\n",
       "      <td>1.0</td>\n",
       "      <td>1.0</td>\n",
       "      <td>64.0</td>\n",
       "      <td>1.0</td>\n",
       "      <td>7936.0</td>\n",
       "    </tr>\n",
       "  </tbody>\n",
       "</table>\n",
       "</div>"
      ],
      "text/plain": [
       "            CUST_NO  AGE  CHILDREN_CNT  CUST_START_DT  EDU_CODE GENDER_CODE  \\\n",
       "0  MNEZK2O3OE-JHYBW  4.0           0.0         2912.0       3.0      Female   \n",
       "1  W7ADZSWYXEMHB7JQ  4.0           0.0         8332.0       5.0      Female   \n",
       "2  ODB6BA6ORHL2UYZE  4.0           0.0          744.0       3.0      Female   \n",
       "3  SURN2CDMNHCL4SJC  4.0           0.0         4677.0       2.0      Female   \n",
       "4  1SMBYIP5SSUNG1DW  4.0           0.0         7936.0       6.0      Female   \n",
       "\n",
       "   INCOME_RANGE_CODE  WORK_MTHS  CreditCard_b  ForEx_b  Trust_b  Loan_b  \\\n",
       "0                2.0        2.0           0.0      0.0      0.0     0.0   \n",
       "1                2.0        1.0           0.0      0.0      0.0     0.0   \n",
       "2                2.0        1.0           0.0      0.0      0.0     0.0   \n",
       "3                2.0        1.0           1.0     23.0      0.0     1.0   \n",
       "4                1.0        1.0           0.0      0.0      0.0     0.0   \n",
       "\n",
       "   cc_BuyFreq  fx_BuyFreq  ln_BuyFreq  wm_BuyFreq  browse_c  freq_c  female  \\\n",
       "0         0.0         1.0         0.0         0.0       0.0    14.0       1   \n",
       "1         0.0         0.0         0.0         0.0       0.0     0.0       1   \n",
       "2         0.0         0.0         0.0         0.0       0.0     0.0       1   \n",
       "3         0.0         1.0         0.0         0.0      25.0    17.0       1   \n",
       "4         0.0         0.0         0.0         0.0       0.0     0.0       1   \n",
       "\n",
       "   male  avg_income  edu_cut  current_age  assets  freq_c_CUST_START_DT  \n",
       "0     0         2.0      0.0         78.0     4.0                2926.0  \n",
       "1     0         2.0      1.0         63.0     2.0                8332.0  \n",
       "2     0         2.0      0.0         84.0     2.0                 744.0  \n",
       "3     0         2.0      0.0         73.0     2.0                4694.0  \n",
       "4     0         1.0      1.0         64.0     1.0                7936.0  "
      ]
     },
     "execution_count": 2,
     "metadata": {},
     "output_type": "execute_result"
    }
   ],
   "source": [
    "df = pd.read_csv('cif_combine_browse.csv',index_col=0)\n",
    "df.head()"
   ]
  },
  {
   "cell_type": "code",
   "execution_count": 3,
   "metadata": {},
   "outputs": [],
   "source": [
    "#挑出 答案卷 30,000 筆的資料\n",
    "answer=pd.read_csv('TBN_Y_ZERO.csv')\n",
    "\n",
    "df_x_test=df.iloc[-30000:,:] # 把答案卷裡面的 (predict_data)\n",
    "df_x_train = df.iloc[:-30000,:] # 準備用來training 的 array (train_data)\n"
   ]
  },
  {
   "cell_type": "code",
   "execution_count": 4,
   "metadata": {},
   "outputs": [
    {
     "data": {
      "text/html": [
       "<div>\n",
       "<style scoped>\n",
       "    .dataframe tbody tr th:only-of-type {\n",
       "        vertical-align: middle;\n",
       "    }\n",
       "\n",
       "    .dataframe tbody tr th {\n",
       "        vertical-align: top;\n",
       "    }\n",
       "\n",
       "    .dataframe thead th {\n",
       "        text-align: right;\n",
       "    }\n",
       "</style>\n",
       "<table border=\"1\" class=\"dataframe\">\n",
       "  <thead>\n",
       "    <tr style=\"text-align: right;\">\n",
       "      <th></th>\n",
       "      <th>CUST_NO</th>\n",
       "      <th>AGE</th>\n",
       "      <th>CHILDREN_CNT</th>\n",
       "      <th>CUST_START_DT</th>\n",
       "      <th>EDU_CODE</th>\n",
       "      <th>GENDER_CODE</th>\n",
       "      <th>INCOME_RANGE_CODE</th>\n",
       "      <th>WORK_MTHS</th>\n",
       "      <th>CreditCard_b</th>\n",
       "      <th>ForEx_b</th>\n",
       "      <th>Trust_b</th>\n",
       "      <th>Loan_b</th>\n",
       "      <th>cc_BuyFreq</th>\n",
       "      <th>fx_BuyFreq</th>\n",
       "      <th>ln_BuyFreq</th>\n",
       "      <th>wm_BuyFreq</th>\n",
       "      <th>browse_c</th>\n",
       "      <th>freq_c</th>\n",
       "      <th>female</th>\n",
       "      <th>male</th>\n",
       "      <th>avg_income</th>\n",
       "      <th>edu_cut</th>\n",
       "      <th>current_age</th>\n",
       "      <th>assets</th>\n",
       "      <th>freq_c_CUST_START_DT</th>\n",
       "    </tr>\n",
       "  </thead>\n",
       "  <tbody>\n",
       "    <tr>\n",
       "      <th>0</th>\n",
       "      <td>OGMWH3NPW4BKLRBU</td>\n",
       "      <td>4.0</td>\n",
       "      <td>0.0</td>\n",
       "      <td>5418.0</td>\n",
       "      <td>3.0</td>\n",
       "      <td>Female</td>\n",
       "      <td>2.0</td>\n",
       "      <td>1.0</td>\n",
       "      <td>26.0</td>\n",
       "      <td>1.0</td>\n",
       "      <td>0.0</td>\n",
       "      <td>0.0</td>\n",
       "      <td>0.0</td>\n",
       "      <td>0.0</td>\n",
       "      <td>0.0</td>\n",
       "      <td>0.0</td>\n",
       "      <td>27.0</td>\n",
       "      <td>0.0</td>\n",
       "      <td>1</td>\n",
       "      <td>0</td>\n",
       "      <td>2.0</td>\n",
       "      <td>0.0</td>\n",
       "      <td>71.0</td>\n",
       "      <td>2.0</td>\n",
       "      <td>5418.0</td>\n",
       "    </tr>\n",
       "    <tr>\n",
       "      <th>1</th>\n",
       "      <td>THE2EIIGHAUUINDO</td>\n",
       "      <td>4.0</td>\n",
       "      <td>0.0</td>\n",
       "      <td>5903.0</td>\n",
       "      <td>3.0</td>\n",
       "      <td>Male</td>\n",
       "      <td>1.0</td>\n",
       "      <td>1.0</td>\n",
       "      <td>2.0</td>\n",
       "      <td>0.0</td>\n",
       "      <td>0.0</td>\n",
       "      <td>2.0</td>\n",
       "      <td>0.0</td>\n",
       "      <td>0.0</td>\n",
       "      <td>0.0</td>\n",
       "      <td>0.0</td>\n",
       "      <td>4.0</td>\n",
       "      <td>0.0</td>\n",
       "      <td>0</td>\n",
       "      <td>1</td>\n",
       "      <td>1.0</td>\n",
       "      <td>0.0</td>\n",
       "      <td>70.0</td>\n",
       "      <td>1.0</td>\n",
       "      <td>5903.0</td>\n",
       "    </tr>\n",
       "    <tr>\n",
       "      <th>2</th>\n",
       "      <td>N-_SFRR3-YRF2HRO</td>\n",
       "      <td>1.0</td>\n",
       "      <td>0.0</td>\n",
       "      <td>9221.0</td>\n",
       "      <td>6.0</td>\n",
       "      <td>Female</td>\n",
       "      <td>1.0</td>\n",
       "      <td>1.0</td>\n",
       "      <td>0.0</td>\n",
       "      <td>0.0</td>\n",
       "      <td>0.0</td>\n",
       "      <td>0.0</td>\n",
       "      <td>0.0</td>\n",
       "      <td>1.0</td>\n",
       "      <td>0.0</td>\n",
       "      <td>0.0</td>\n",
       "      <td>0.0</td>\n",
       "      <td>1.0</td>\n",
       "      <td>1</td>\n",
       "      <td>0</td>\n",
       "      <td>1.0</td>\n",
       "      <td>1.0</td>\n",
       "      <td>16.0</td>\n",
       "      <td>1.0</td>\n",
       "      <td>9222.0</td>\n",
       "    </tr>\n",
       "    <tr>\n",
       "      <th>3</th>\n",
       "      <td>QI0VWKJE-M5EPDAO</td>\n",
       "      <td>2.0</td>\n",
       "      <td>0.0</td>\n",
       "      <td>8843.0</td>\n",
       "      <td>4.0</td>\n",
       "      <td>Female</td>\n",
       "      <td>1.0</td>\n",
       "      <td>1.0</td>\n",
       "      <td>0.0</td>\n",
       "      <td>0.0</td>\n",
       "      <td>0.0</td>\n",
       "      <td>0.0</td>\n",
       "      <td>0.0</td>\n",
       "      <td>0.0</td>\n",
       "      <td>0.0</td>\n",
       "      <td>0.0</td>\n",
       "      <td>0.0</td>\n",
       "      <td>0.0</td>\n",
       "      <td>1</td>\n",
       "      <td>0</td>\n",
       "      <td>1.0</td>\n",
       "      <td>1.0</td>\n",
       "      <td>32.0</td>\n",
       "      <td>1.0</td>\n",
       "      <td>8843.0</td>\n",
       "    </tr>\n",
       "    <tr>\n",
       "      <th>4</th>\n",
       "      <td>PWD6W0QA58T8GFLI</td>\n",
       "      <td>4.0</td>\n",
       "      <td>0.0</td>\n",
       "      <td>7048.0</td>\n",
       "      <td>4.0</td>\n",
       "      <td>Female</td>\n",
       "      <td>2.0</td>\n",
       "      <td>1.0</td>\n",
       "      <td>0.0</td>\n",
       "      <td>3.0</td>\n",
       "      <td>0.0</td>\n",
       "      <td>0.0</td>\n",
       "      <td>0.0</td>\n",
       "      <td>0.0</td>\n",
       "      <td>0.0</td>\n",
       "      <td>1.0</td>\n",
       "      <td>3.0</td>\n",
       "      <td>1.0</td>\n",
       "      <td>1</td>\n",
       "      <td>0</td>\n",
       "      <td>2.0</td>\n",
       "      <td>1.0</td>\n",
       "      <td>67.0</td>\n",
       "      <td>2.0</td>\n",
       "      <td>7049.0</td>\n",
       "    </tr>\n",
       "  </tbody>\n",
       "</table>\n",
       "</div>"
      ],
      "text/plain": [
       "            CUST_NO  AGE  CHILDREN_CNT  CUST_START_DT  EDU_CODE GENDER_CODE  \\\n",
       "0  OGMWH3NPW4BKLRBU  4.0           0.0         5418.0       3.0      Female   \n",
       "1  THE2EIIGHAUUINDO  4.0           0.0         5903.0       3.0        Male   \n",
       "2  N-_SFRR3-YRF2HRO  1.0           0.0         9221.0       6.0      Female   \n",
       "3  QI0VWKJE-M5EPDAO  2.0           0.0         8843.0       4.0      Female   \n",
       "4  PWD6W0QA58T8GFLI  4.0           0.0         7048.0       4.0      Female   \n",
       "\n",
       "   INCOME_RANGE_CODE  WORK_MTHS  CreditCard_b  ForEx_b  Trust_b  Loan_b  \\\n",
       "0                2.0        1.0          26.0      1.0      0.0     0.0   \n",
       "1                1.0        1.0           2.0      0.0      0.0     2.0   \n",
       "2                1.0        1.0           0.0      0.0      0.0     0.0   \n",
       "3                1.0        1.0           0.0      0.0      0.0     0.0   \n",
       "4                2.0        1.0           0.0      3.0      0.0     0.0   \n",
       "\n",
       "   cc_BuyFreq  fx_BuyFreq  ln_BuyFreq  wm_BuyFreq  browse_c  freq_c  female  \\\n",
       "0         0.0         0.0         0.0         0.0      27.0     0.0       1   \n",
       "1         0.0         0.0         0.0         0.0       4.0     0.0       0   \n",
       "2         0.0         1.0         0.0         0.0       0.0     1.0       1   \n",
       "3         0.0         0.0         0.0         0.0       0.0     0.0       1   \n",
       "4         0.0         0.0         0.0         1.0       3.0     1.0       1   \n",
       "\n",
       "   male  avg_income  edu_cut  current_age  assets  freq_c_CUST_START_DT  \n",
       "0     0         2.0      0.0         71.0     2.0                5418.0  \n",
       "1     1         1.0      0.0         70.0     1.0                5903.0  \n",
       "2     0         1.0      1.0         16.0     1.0                9222.0  \n",
       "3     0         1.0      1.0         32.0     1.0                8843.0  \n",
       "4     0         2.0      1.0         67.0     2.0                7049.0  "
      ]
     },
     "execution_count": 4,
     "metadata": {},
     "output_type": "execute_result"
    }
   ],
   "source": [
    "df_x_test.head()"
   ]
  },
  {
   "cell_type": "code",
   "execution_count": 5,
   "metadata": {},
   "outputs": [
    {
     "data": {
      "text/html": [
       "<div>\n",
       "<style scoped>\n",
       "    .dataframe tbody tr th:only-of-type {\n",
       "        vertical-align: middle;\n",
       "    }\n",
       "\n",
       "    .dataframe tbody tr th {\n",
       "        vertical-align: top;\n",
       "    }\n",
       "\n",
       "    .dataframe thead th {\n",
       "        text-align: right;\n",
       "    }\n",
       "</style>\n",
       "<table border=\"1\" class=\"dataframe\">\n",
       "  <thead>\n",
       "    <tr style=\"text-align: right;\">\n",
       "      <th></th>\n",
       "      <th>CUST_NO</th>\n",
       "      <th>AGE</th>\n",
       "      <th>CHILDREN_CNT</th>\n",
       "      <th>CUST_START_DT</th>\n",
       "      <th>EDU_CODE</th>\n",
       "      <th>GENDER_CODE</th>\n",
       "      <th>INCOME_RANGE_CODE</th>\n",
       "      <th>WORK_MTHS</th>\n",
       "      <th>CreditCard_b</th>\n",
       "      <th>ForEx_b</th>\n",
       "      <th>Trust_b</th>\n",
       "      <th>Loan_b</th>\n",
       "      <th>cc_BuyFreq</th>\n",
       "      <th>fx_BuyFreq</th>\n",
       "      <th>ln_BuyFreq</th>\n",
       "      <th>wm_BuyFreq</th>\n",
       "      <th>browse_c</th>\n",
       "      <th>freq_c</th>\n",
       "      <th>female</th>\n",
       "      <th>male</th>\n",
       "      <th>avg_income</th>\n",
       "      <th>edu_cut</th>\n",
       "      <th>current_age</th>\n",
       "      <th>assets</th>\n",
       "      <th>freq_c_CUST_START_DT</th>\n",
       "    </tr>\n",
       "  </thead>\n",
       "  <tbody>\n",
       "    <tr>\n",
       "      <th>127307</th>\n",
       "      <td>HXNFLTI61KOEISY0</td>\n",
       "      <td>4.0</td>\n",
       "      <td>0.0</td>\n",
       "      <td>9479.0</td>\n",
       "      <td>5.0</td>\n",
       "      <td>Male</td>\n",
       "      <td>1.0</td>\n",
       "      <td>1.0</td>\n",
       "      <td>0.0</td>\n",
       "      <td>0.0</td>\n",
       "      <td>0.0</td>\n",
       "      <td>0.0</td>\n",
       "      <td>1.0</td>\n",
       "      <td>0.0</td>\n",
       "      <td>0.0</td>\n",
       "      <td>0.0</td>\n",
       "      <td>0.0</td>\n",
       "      <td>1.0</td>\n",
       "      <td>0</td>\n",
       "      <td>1</td>\n",
       "      <td>1.0</td>\n",
       "      <td>1.0</td>\n",
       "      <td>60.0</td>\n",
       "      <td>1.0</td>\n",
       "      <td>9480.0</td>\n",
       "    </tr>\n",
       "    <tr>\n",
       "      <th>127308</th>\n",
       "      <td>VKMMLU1MTBDTQBYY</td>\n",
       "      <td>1.0</td>\n",
       "      <td>0.0</td>\n",
       "      <td>8329.0</td>\n",
       "      <td>5.0</td>\n",
       "      <td>Male</td>\n",
       "      <td>1.0</td>\n",
       "      <td>1.0</td>\n",
       "      <td>0.0</td>\n",
       "      <td>0.0</td>\n",
       "      <td>0.0</td>\n",
       "      <td>0.0</td>\n",
       "      <td>0.0</td>\n",
       "      <td>0.0</td>\n",
       "      <td>0.0</td>\n",
       "      <td>0.0</td>\n",
       "      <td>0.0</td>\n",
       "      <td>0.0</td>\n",
       "      <td>0</td>\n",
       "      <td>1</td>\n",
       "      <td>1.0</td>\n",
       "      <td>1.0</td>\n",
       "      <td>18.0</td>\n",
       "      <td>1.0</td>\n",
       "      <td>8329.0</td>\n",
       "    </tr>\n",
       "    <tr>\n",
       "      <th>127309</th>\n",
       "      <td>QIUZ-GXIFLEUTO4E</td>\n",
       "      <td>2.0</td>\n",
       "      <td>0.0</td>\n",
       "      <td>8168.0</td>\n",
       "      <td>3.0</td>\n",
       "      <td>Male</td>\n",
       "      <td>1.0</td>\n",
       "      <td>1.0</td>\n",
       "      <td>0.0</td>\n",
       "      <td>0.0</td>\n",
       "      <td>0.0</td>\n",
       "      <td>0.0</td>\n",
       "      <td>0.0</td>\n",
       "      <td>0.0</td>\n",
       "      <td>0.0</td>\n",
       "      <td>0.0</td>\n",
       "      <td>0.0</td>\n",
       "      <td>0.0</td>\n",
       "      <td>0</td>\n",
       "      <td>1</td>\n",
       "      <td>1.0</td>\n",
       "      <td>0.0</td>\n",
       "      <td>34.0</td>\n",
       "      <td>1.0</td>\n",
       "      <td>8168.0</td>\n",
       "    </tr>\n",
       "    <tr>\n",
       "      <th>127310</th>\n",
       "      <td>13JSL0TJAMWS4UHK</td>\n",
       "      <td>3.0</td>\n",
       "      <td>0.0</td>\n",
       "      <td>7989.0</td>\n",
       "      <td>3.0</td>\n",
       "      <td>Male</td>\n",
       "      <td>2.0</td>\n",
       "      <td>1.0</td>\n",
       "      <td>0.0</td>\n",
       "      <td>0.0</td>\n",
       "      <td>0.0</td>\n",
       "      <td>0.0</td>\n",
       "      <td>0.0</td>\n",
       "      <td>1.0</td>\n",
       "      <td>0.0</td>\n",
       "      <td>1.0</td>\n",
       "      <td>0.0</td>\n",
       "      <td>14.0</td>\n",
       "      <td>0</td>\n",
       "      <td>1</td>\n",
       "      <td>2.0</td>\n",
       "      <td>0.0</td>\n",
       "      <td>49.0</td>\n",
       "      <td>2.0</td>\n",
       "      <td>8003.0</td>\n",
       "    </tr>\n",
       "    <tr>\n",
       "      <th>127311</th>\n",
       "      <td>SED1QHMCZKIWCZSU</td>\n",
       "      <td>1.0</td>\n",
       "      <td>0.0</td>\n",
       "      <td>9550.0</td>\n",
       "      <td>5.0</td>\n",
       "      <td>Male</td>\n",
       "      <td>1.0</td>\n",
       "      <td>1.0</td>\n",
       "      <td>0.0</td>\n",
       "      <td>0.0</td>\n",
       "      <td>0.0</td>\n",
       "      <td>0.0</td>\n",
       "      <td>1.0</td>\n",
       "      <td>0.0</td>\n",
       "      <td>0.0</td>\n",
       "      <td>0.0</td>\n",
       "      <td>0.0</td>\n",
       "      <td>1.0</td>\n",
       "      <td>0</td>\n",
       "      <td>1</td>\n",
       "      <td>1.0</td>\n",
       "      <td>1.0</td>\n",
       "      <td>15.0</td>\n",
       "      <td>1.0</td>\n",
       "      <td>9551.0</td>\n",
       "    </tr>\n",
       "  </tbody>\n",
       "</table>\n",
       "</div>"
      ],
      "text/plain": [
       "                 CUST_NO  AGE  CHILDREN_CNT  CUST_START_DT  EDU_CODE  \\\n",
       "127307  HXNFLTI61KOEISY0  4.0           0.0         9479.0       5.0   \n",
       "127308  VKMMLU1MTBDTQBYY  1.0           0.0         8329.0       5.0   \n",
       "127309  QIUZ-GXIFLEUTO4E  2.0           0.0         8168.0       3.0   \n",
       "127310  13JSL0TJAMWS4UHK  3.0           0.0         7989.0       3.0   \n",
       "127311  SED1QHMCZKIWCZSU  1.0           0.0         9550.0       5.0   \n",
       "\n",
       "       GENDER_CODE  INCOME_RANGE_CODE  WORK_MTHS  CreditCard_b  ForEx_b  \\\n",
       "127307        Male                1.0        1.0           0.0      0.0   \n",
       "127308        Male                1.0        1.0           0.0      0.0   \n",
       "127309        Male                1.0        1.0           0.0      0.0   \n",
       "127310        Male                2.0        1.0           0.0      0.0   \n",
       "127311        Male                1.0        1.0           0.0      0.0   \n",
       "\n",
       "        Trust_b  Loan_b  cc_BuyFreq  fx_BuyFreq  ln_BuyFreq  wm_BuyFreq  \\\n",
       "127307      0.0     0.0         1.0         0.0         0.0         0.0   \n",
       "127308      0.0     0.0         0.0         0.0         0.0         0.0   \n",
       "127309      0.0     0.0         0.0         0.0         0.0         0.0   \n",
       "127310      0.0     0.0         0.0         1.0         0.0         1.0   \n",
       "127311      0.0     0.0         1.0         0.0         0.0         0.0   \n",
       "\n",
       "        browse_c  freq_c  female  male  avg_income  edu_cut  current_age  \\\n",
       "127307       0.0     1.0       0     1         1.0      1.0         60.0   \n",
       "127308       0.0     0.0       0     1         1.0      1.0         18.0   \n",
       "127309       0.0     0.0       0     1         1.0      0.0         34.0   \n",
       "127310       0.0    14.0       0     1         2.0      0.0         49.0   \n",
       "127311       0.0     1.0       0     1         1.0      1.0         15.0   \n",
       "\n",
       "        assets  freq_c_CUST_START_DT  \n",
       "127307     1.0                9480.0  \n",
       "127308     1.0                8329.0  \n",
       "127309     1.0                8168.0  \n",
       "127310     2.0                8003.0  \n",
       "127311     1.0                9551.0  "
      ]
     },
     "execution_count": 5,
     "metadata": {},
     "output_type": "execute_result"
    }
   ],
   "source": [
    "df_x_train.tail()"
   ]
  },
  {
   "cell_type": "code",
   "execution_count": 6,
   "metadata": {},
   "outputs": [],
   "source": [
    "# 分別刪除各項金融產品建立不同的model\n",
    "CreditCard = ['CUST_NO','ForEx_b','fx_BuyFreq','Trust_b','ln_BuyFreq','Loan_b','wm_BuyFreq','GENDER_CODE',\n",
    "              'AGE','CHILDREN_CNT','EDU_CODE','INCOME_RANGE_CODE','WORK_MTHS']\n",
    "\n",
    "ForEx = ['CUST_NO','CreditCard_b','cc_BuyFreq','Trust_b','ln_BuyFreq','Loan_b','wm_BuyFreq','GENDER_CODE',\n",
    "         'AGE','CHILDREN_CNT','EDU_CODE','INCOME_RANGE_CODE','WORK_MTHS']\n",
    "\n",
    "Loan = ['CUST_NO','CreditCard_b','cc_BuyFreq','ForEx_b','fx_BuyFreq','Trust_b','wm_BuyFreq','GENDER_CODE',\n",
    "       'AGE','CHILDREN_CNT','EDU_CODE','INCOME_RANGE_CODE','WORK_MTHS']\n",
    "\n",
    "Trust = ['CUST_NO','CreditCard_b','cc_BuyFreq','ForEx_b','fx_BuyFreq','Loan_b','ln_BuyFreq','GENDER_CODE',\n",
    "        'AGE','CHILDREN_CNT','EDU_CODE','INCOME_RANGE_CODE','WORK_MTHS']\n",
    "\n",
    "# training data\n",
    "df_CreditCard_train = df_x_train.drop(CreditCard, axis=1)\n",
    "df_ForEx_train = df_x_train.drop(ForEx, axis=1)\n",
    "df_Loan_train = df_x_train.drop(Loan, axis=1)\n",
    "df_Trust_train = df_x_train.drop(Trust, axis=1)\n",
    "\n",
    "# testing data\n",
    "df_CreditCard_test = df_x_test.drop(CreditCard, axis=1)\n",
    "df_ForEx_test = df_x_test.drop(ForEx, axis=1)\n",
    "df_Loan_test = df_x_test.drop(Loan, axis=1)\n",
    "df_Trust_test = df_x_test.drop(Trust, axis=1)"
   ]
  },
  {
   "cell_type": "markdown",
   "metadata": {},
   "source": [
    "# Take out the 0's data in order to balance 1's in 1:3 "
   ]
  },
  {
   "cell_type": "code",
   "execution_count": 7,
   "metadata": {},
   "outputs": [],
   "source": [
    "from sklearn.utils import shuffle"
   ]
  },
  {
   "cell_type": "code",
   "execution_count": 8,
   "metadata": {},
   "outputs": [],
   "source": [
    "# df_CreditCard_train.groupby('cc_BuyFreq').count() # 51171  "
   ]
  },
  {
   "cell_type": "code",
   "execution_count": 9,
   "metadata": {},
   "outputs": [],
   "source": [
    "# df_CreditCard_train_0=df_CreditCard_train.loc[df_CreditCard_train['cc_BuyFreq']==0]\n",
    "# df_CreditCard_train_1=df_CreditCard_train.loc[df_CreditCard_train['cc_BuyFreq']==1]\n",
    "\n",
    "# df_CreditCard_train_0 = shuffle(df_CreditCard_train_0)\n",
    "\n",
    "# df_CreditCard_train_0=df_CreditCard_train_0.iloc[:25000,:]\n",
    "# df_CreditCard_train=pd.concat([df_CreditCard_train_0,df_CreditCard_train_1])\n",
    "\n",
    "# df_CreditCard_train=shuffle(df_CreditCard_train)\n",
    "# df_CreditCard_train.shape"
   ]
  },
  {
   "cell_type": "code",
   "execution_count": 10,
   "metadata": {},
   "outputs": [],
   "source": [
    "#信用卡\n",
    "#機器學習 Machine Learning\n",
    "#切分訓練與驗證資料 Separate data in training and validation set\n",
    "\n",
    "from sklearn.model_selection import train_test_split\n",
    "#train_test_split 切分訓練資料（training samples）與測試資料（testing samples）\n",
    "from sklearn.model_selection import cross_val_score\n",
    "#cross_val_score對資料集進行交叉驗證並印出準確值 \n",
    "\n",
    "drop_cc='cc_BuyFreq'\n",
    "#把label切分出來\n",
    "x_train_CreditCard=df_CreditCard_train.drop(drop_cc,axis=1)\n",
    "x_test_CreditCard=df_CreditCard_test.drop(drop_cc,axis=1)\n",
    "y_train_CreditCard=df_CreditCard_train[drop_cc]\n",
    "y_test_CreditCard=df_CreditCard_test[drop_cc]"
   ]
  },
  {
   "cell_type": "code",
   "execution_count": 11,
   "metadata": {},
   "outputs": [],
   "source": [
    "# Feature scaling 特徵工程\n",
    "from sklearn.preprocessing import StandardScaler\n",
    "sc = StandardScaler()\n",
    "X_train = sc.fit_transform(x_train_CreditCard)\n",
    "X_test = sc.fit_transform(x_test_CreditCard)"
   ]
  },
  {
   "cell_type": "code",
   "execution_count": 12,
   "metadata": {},
   "outputs": [],
   "source": [
    "#Random Forest\n",
    "from sklearn.ensemble import RandomForestClassifier\n",
    "from sklearn import metrics\n",
    "from sklearn.metrics import accuracy_score\n",
    "#accuracy_score 預測準確度\n",
    "\n",
    "#Create the model\n",
    "model_CreditCard_rf= RandomForestClassifier(n_estimators=300)\n",
    "\n",
    "#Fit the model\n",
    "model_CreditCard_rf.fit(X=X_train,y=y_train_CreditCard)\n",
    "\n",
    "#Prediction\n",
    "predicion_CreditCard_rf = model_CreditCard_rf.predict(X_test)\n",
    "\n",
    "#model_CreditCard_rf.score(x_train_CreditCard, x_test_CreditCard)"
   ]
  },
  {
   "cell_type": "code",
   "execution_count": 13,
   "metadata": {},
   "outputs": [
    {
     "name": "stdout",
     "output_type": "stream",
     "text": [
      "[0. 0. 1. ... 0. 0. 0.]\n",
      "[[0.99666667 0.00333333]\n",
      " [1.         0.        ]\n",
      " [0.18       0.82      ]\n",
      " ...\n",
      " [1.         0.        ]\n",
      " [1.         0.        ]\n",
      " [1.         0.        ]]\n"
     ]
    }
   ],
   "source": [
    "print(model_CreditCard_rf.predict(X_test))\n",
    "print(model_CreditCard_rf.predict_proba(X_test))"
   ]
  },
  {
   "cell_type": "code",
   "execution_count": 14,
   "metadata": {},
   "outputs": [
    {
     "name": "stdout",
     "output_type": "stream",
     "text": [
      "             precision    recall  f1-score   support\n",
      "\n",
      "        0.0       0.93      0.96      0.95     26501\n",
      "        1.0       0.61      0.48      0.54      3499\n",
      "\n",
      "avg / total       0.90      0.90      0.90     30000\n",
      "\n"
     ]
    }
   ],
   "source": [
    "#Clasification report\n",
    "results_CreditCard_rf=metrics.classification_report(y_true=y_test_CreditCard, y_pred=predicion_CreditCard_rf)\n",
    "print(results_CreditCard_rf)"
   ]
  },
  {
   "cell_type": "code",
   "execution_count": 15,
   "metadata": {},
   "outputs": [],
   "source": [
    "import matplotlib.pyplot as plt\n",
    "import seaborn as sns \n",
    "#Confusion matrix\n",
    "cm_rf=metrics.confusion_matrix(y_true=y_test_CreditCard, y_pred=predicion_CreditCard_rf)\n",
    "f,ax = plt.subplots(figsize=(5, 4))\n",
    "sns.heatmap(cm_rf, annot=True, linewidths=.5, fmt= '.1f',ax=ax);\n"
   ]
  },
  {
   "cell_type": "code",
   "execution_count": 16,
   "metadata": {},
   "outputs": [
    {
     "data": {
      "text/plain": [
       "0.9036"
      ]
     },
     "execution_count": 16,
     "metadata": {},
     "output_type": "execute_result"
    }
   ],
   "source": [
    "#預測準確度\n",
    "accuracy_score(y_test_CreditCard, predicion_CreditCard_rf)"
   ]
  },
  {
   "cell_type": "markdown",
   "metadata": {},
   "source": [
    "# Take out the 0's data in order to balance 1's in 1:3 "
   ]
  },
  {
   "cell_type": "code",
   "execution_count": 17,
   "metadata": {},
   "outputs": [
    {
     "data": {
      "text/html": [
       "<div>\n",
       "<style scoped>\n",
       "    .dataframe tbody tr th:only-of-type {\n",
       "        vertical-align: middle;\n",
       "    }\n",
       "\n",
       "    .dataframe tbody tr th {\n",
       "        vertical-align: top;\n",
       "    }\n",
       "\n",
       "    .dataframe thead th {\n",
       "        text-align: right;\n",
       "    }\n",
       "</style>\n",
       "<table border=\"1\" class=\"dataframe\">\n",
       "  <thead>\n",
       "    <tr style=\"text-align: right;\">\n",
       "      <th></th>\n",
       "      <th>CUST_START_DT</th>\n",
       "      <th>ForEx_b</th>\n",
       "      <th>browse_c</th>\n",
       "      <th>freq_c</th>\n",
       "      <th>female</th>\n",
       "      <th>male</th>\n",
       "      <th>avg_income</th>\n",
       "      <th>edu_cut</th>\n",
       "      <th>current_age</th>\n",
       "      <th>assets</th>\n",
       "      <th>freq_c_CUST_START_DT</th>\n",
       "    </tr>\n",
       "    <tr>\n",
       "      <th>fx_BuyFreq</th>\n",
       "      <th></th>\n",
       "      <th></th>\n",
       "      <th></th>\n",
       "      <th></th>\n",
       "      <th></th>\n",
       "      <th></th>\n",
       "      <th></th>\n",
       "      <th></th>\n",
       "      <th></th>\n",
       "      <th></th>\n",
       "      <th></th>\n",
       "    </tr>\n",
       "  </thead>\n",
       "  <tbody>\n",
       "    <tr>\n",
       "      <th>0.0</th>\n",
       "      <td>102096</td>\n",
       "      <td>102096</td>\n",
       "      <td>102096</td>\n",
       "      <td>102096</td>\n",
       "      <td>102096</td>\n",
       "      <td>102096</td>\n",
       "      <td>102096</td>\n",
       "      <td>102096</td>\n",
       "      <td>102096</td>\n",
       "      <td>102096</td>\n",
       "      <td>102096</td>\n",
       "    </tr>\n",
       "    <tr>\n",
       "      <th>1.0</th>\n",
       "      <td>25216</td>\n",
       "      <td>25216</td>\n",
       "      <td>25216</td>\n",
       "      <td>25216</td>\n",
       "      <td>25216</td>\n",
       "      <td>25216</td>\n",
       "      <td>25216</td>\n",
       "      <td>25216</td>\n",
       "      <td>25216</td>\n",
       "      <td>25216</td>\n",
       "      <td>25216</td>\n",
       "    </tr>\n",
       "  </tbody>\n",
       "</table>\n",
       "</div>"
      ],
      "text/plain": [
       "            CUST_START_DT  ForEx_b  browse_c  freq_c  female    male  \\\n",
       "fx_BuyFreq                                                             \n",
       "0.0                102096   102096    102096  102096  102096  102096   \n",
       "1.0                 25216    25216     25216   25216   25216   25216   \n",
       "\n",
       "            avg_income  edu_cut  current_age  assets  freq_c_CUST_START_DT  \n",
       "fx_BuyFreq                                                                  \n",
       "0.0             102096   102096       102096  102096                102096  \n",
       "1.0              25216    25216        25216   25216                 25216  "
      ]
     },
     "execution_count": 17,
     "metadata": {},
     "output_type": "execute_result"
    }
   ],
   "source": [
    "df_ForEx_train.groupby('fx_BuyFreq').count() # 75648  "
   ]
  },
  {
   "cell_type": "code",
   "execution_count": 18,
   "metadata": {},
   "outputs": [],
   "source": [
    "df_ForEx_train_0=df_ForEx_train.loc[df_ForEx_train['fx_BuyFreq']==0]\n",
    "df_ForEx_train_1=df_ForEx_train.loc[df_ForEx_train['fx_BuyFreq']==1]"
   ]
  },
  {
   "cell_type": "code",
   "execution_count": 19,
   "metadata": {},
   "outputs": [],
   "source": [
    "df_ForEx_train_0=df_ForEx_train_0.iloc[:75649,:]\n",
    "df_ForEx_train=pd.concat([df_ForEx_train_1,df_ForEx_train_0])"
   ]
  },
  {
   "cell_type": "code",
   "execution_count": 20,
   "metadata": {},
   "outputs": [
    {
     "data": {
      "text/plain": [
       "(100865, 12)"
      ]
     },
     "execution_count": 20,
     "metadata": {},
     "output_type": "execute_result"
    }
   ],
   "source": [
    "df_ForEx_train=shuffle(df_ForEx_train)\n",
    "df_ForEx_train.shape"
   ]
  },
  {
   "cell_type": "code",
   "execution_count": null,
   "metadata": {},
   "outputs": [],
   "source": []
  },
  {
   "cell_type": "code",
   "execution_count": 21,
   "metadata": {},
   "outputs": [],
   "source": [
    "#外匯\n",
    "#機器學習 Machine Learning\n",
    "#切分訓練與驗證資料 Separate data in training and validation set\n",
    "\n",
    "from sklearn.model_selection import train_test_split\n",
    "#train_test_split 切分訓練資料（training samples）與測試資料（testing samples）\n",
    "from sklearn.model_selection import cross_val_score\n",
    "#cross_val_score對資料集進行交叉驗證並印出準確值 \n",
    "\n",
    "drop_fx = 'fx_BuyFreq'\n",
    "#把label切分出來\n",
    "x_train_ForEx=df_ForEx_train.drop(drop_fx,axis=1)\n",
    "x_test_ForEx=df_ForEx_test.drop(drop_fx,axis=1)\n",
    "y_train_ForEx=df_ForEx_train[drop_fx]\n",
    "y_test_ForEx=df_ForEx_test[drop_fx]"
   ]
  },
  {
   "cell_type": "code",
   "execution_count": 22,
   "metadata": {},
   "outputs": [],
   "source": [
    "# Feature scaling 特徵工程\n",
    "from sklearn.preprocessing import StandardScaler\n",
    "sc = StandardScaler()\n",
    "X_train = sc.fit_transform(x_train_ForEx)\n",
    "X_test = sc.fit_transform(x_test_ForEx)"
   ]
  },
  {
   "cell_type": "code",
   "execution_count": 23,
   "metadata": {},
   "outputs": [],
   "source": [
    "#Random Forest\n",
    "from sklearn.ensemble import RandomForestClassifier\n",
    "from sklearn import metrics\n",
    "from sklearn.metrics import accuracy_score\n",
    "#accuracy_score 預測準確度\n",
    "\n",
    "#Create the model\n",
    "model_ForEx_rf= RandomForestClassifier(n_estimators=100)\n",
    "\n",
    "#Fit the model\n",
    "model_ForEx_rf.fit(X=X_train,y=y_train_ForEx)\n",
    "\n",
    "#Prediction\n",
    "predicion_ForEx_rf = model_ForEx_rf.predict(X_test)\n",
    "\n",
    "#model_CreditCard_rf.score(x_train_CreditCard, x_test_CreditCard)"
   ]
  },
  {
   "cell_type": "code",
   "execution_count": 24,
   "metadata": {},
   "outputs": [
    {
     "name": "stdout",
     "output_type": "stream",
     "text": [
      "[0. 0. 0. ... 0. 0. 0.]\n",
      "[[1.    0.   ]\n",
      " [1.    0.   ]\n",
      " [0.915 0.085]\n",
      " ...\n",
      " [1.    0.   ]\n",
      " [1.    0.   ]\n",
      " [1.    0.   ]]\n"
     ]
    }
   ],
   "source": [
    "print(model_ForEx_rf.predict(X_test))\n",
    "print(model_ForEx_rf.predict_proba(X_test))"
   ]
  },
  {
   "cell_type": "code",
   "execution_count": 25,
   "metadata": {},
   "outputs": [
    {
     "name": "stdout",
     "output_type": "stream",
     "text": [
      "             precision    recall  f1-score   support\n",
      "\n",
      "        0.0       0.97      0.94      0.95     24191\n",
      "        1.0       0.78      0.86      0.82      5809\n",
      "\n",
      "avg / total       0.93      0.93      0.93     30000\n",
      "\n"
     ]
    }
   ],
   "source": [
    "#Clasification report\n",
    "results_ForEx_rf=metrics.classification_report(y_true=y_test_ForEx, y_pred=predicion_ForEx_rf)\n",
    "print(results_ForEx_rf)"
   ]
  },
  {
   "cell_type": "code",
   "execution_count": 26,
   "metadata": {},
   "outputs": [
    {
     "data": {
      "text/plain": [
       "0.9265"
      ]
     },
     "execution_count": 26,
     "metadata": {},
     "output_type": "execute_result"
    },
    {
     "data": {
      "image/png": "[encoded data removed]",
      "text/plain": [
       "<Figure size 360x288 with 2 Axes>"
      ]
     },
     "metadata": {
      "needs_background": "light"
     },
     "output_type": "display_data"
    }
   ],
   "source": [
    "#Confusion matrix\n",
    "cm_rf=metrics.confusion_matrix(y_true=y_test_ForEx, y_pred=predicion_ForEx_rf)\n",
    "f,ax = plt.subplots(figsize=(5, 4))\n",
    "sns.heatmap(cm_rf, annot=True, linewidths=.5, fmt= '.1f',ax=ax);\n",
    "#預測準確度\n",
    "accuracy_score(y_test_ForEx, predicion_ForEx_rf)"
   ]
  },
  {
   "cell_type": "markdown",
   "metadata": {},
   "source": [
    "# Take out the 0's data in order to balance 1's in 1:3 "
   ]
  },
  {
   "cell_type": "code",
   "execution_count": 27,
   "metadata": {},
   "outputs": [
    {
     "data": {
      "text/html": [
       "<div>\n",
       "<style scoped>\n",
       "    .dataframe tbody tr th:only-of-type {\n",
       "        vertical-align: middle;\n",
       "    }\n",
       "\n",
       "    .dataframe tbody tr th {\n",
       "        vertical-align: top;\n",
       "    }\n",
       "\n",
       "    .dataframe thead th {\n",
       "        text-align: right;\n",
       "    }\n",
       "</style>\n",
       "<table border=\"1\" class=\"dataframe\">\n",
       "  <thead>\n",
       "    <tr style=\"text-align: right;\">\n",
       "      <th></th>\n",
       "      <th>CUST_START_DT</th>\n",
       "      <th>Trust_b</th>\n",
       "      <th>browse_c</th>\n",
       "      <th>freq_c</th>\n",
       "      <th>female</th>\n",
       "      <th>male</th>\n",
       "      <th>avg_income</th>\n",
       "      <th>edu_cut</th>\n",
       "      <th>current_age</th>\n",
       "      <th>assets</th>\n",
       "      <th>freq_c_CUST_START_DT</th>\n",
       "    </tr>\n",
       "    <tr>\n",
       "      <th>wm_BuyFreq</th>\n",
       "      <th></th>\n",
       "      <th></th>\n",
       "      <th></th>\n",
       "      <th></th>\n",
       "      <th></th>\n",
       "      <th></th>\n",
       "      <th></th>\n",
       "      <th></th>\n",
       "      <th></th>\n",
       "      <th></th>\n",
       "      <th></th>\n",
       "    </tr>\n",
       "  </thead>\n",
       "  <tbody>\n",
       "    <tr>\n",
       "      <th>0.0</th>\n",
       "      <td>121880</td>\n",
       "      <td>121880</td>\n",
       "      <td>121880</td>\n",
       "      <td>121880</td>\n",
       "      <td>121880</td>\n",
       "      <td>121880</td>\n",
       "      <td>121880</td>\n",
       "      <td>121880</td>\n",
       "      <td>121880</td>\n",
       "      <td>121880</td>\n",
       "      <td>121880</td>\n",
       "    </tr>\n",
       "    <tr>\n",
       "      <th>1.0</th>\n",
       "      <td>5432</td>\n",
       "      <td>5432</td>\n",
       "      <td>5432</td>\n",
       "      <td>5432</td>\n",
       "      <td>5432</td>\n",
       "      <td>5432</td>\n",
       "      <td>5432</td>\n",
       "      <td>5432</td>\n",
       "      <td>5432</td>\n",
       "      <td>5432</td>\n",
       "      <td>5432</td>\n",
       "    </tr>\n",
       "  </tbody>\n",
       "</table>\n",
       "</div>"
      ],
      "text/plain": [
       "            CUST_START_DT  Trust_b  browse_c  freq_c  female    male  \\\n",
       "wm_BuyFreq                                                             \n",
       "0.0                121880   121880    121880  121880  121880  121880   \n",
       "1.0                  5432     5432      5432    5432    5432    5432   \n",
       "\n",
       "            avg_income  edu_cut  current_age  assets  freq_c_CUST_START_DT  \n",
       "wm_BuyFreq                                                                  \n",
       "0.0             121880   121880       121880  121880                121880  \n",
       "1.0               5432     5432         5432    5432                  5432  "
      ]
     },
     "execution_count": 27,
     "metadata": {},
     "output_type": "execute_result"
    }
   ],
   "source": [
    "df_Trust_train.groupby('wm_BuyFreq').count() # 16296 "
   ]
  },
  {
   "cell_type": "code",
   "execution_count": 28,
   "metadata": {},
   "outputs": [
    {
     "data": {
      "text/plain": [
       "(21728, 12)"
      ]
     },
     "execution_count": 28,
     "metadata": {},
     "output_type": "execute_result"
    }
   ],
   "source": [
    "df_Trust_train_0=df_Trust_train.loc[df_Trust_train['wm_BuyFreq']==0]\n",
    "df_Trust_train_1=df_Trust_train.loc[df_Trust_train['wm_BuyFreq']==1]\n",
    "\n",
    "df_Trust_train_0 = shuffle(df_Trust_train_0)\n",
    "\n",
    "df_Trust_train_0=df_Trust_train_0.iloc[:16296,:]\n",
    "df_Trust_train=pd.concat([df_Trust_train_0,df_Trust_train_1])\n",
    "\n",
    "df_Trust_train=shuffle(df_Trust_train)\n",
    "df_Trust_train.shape"
   ]
  },
  {
   "cell_type": "code",
   "execution_count": null,
   "metadata": {},
   "outputs": [],
   "source": []
  },
  {
   "cell_type": "code",
   "execution_count": null,
   "metadata": {},
   "outputs": [],
   "source": []
  },
  {
   "cell_type": "code",
   "execution_count": 29,
   "metadata": {},
   "outputs": [],
   "source": [
    "#信託\n",
    "#機器學習 Machine Learning\n",
    "#切分訓練與驗證資料 Separate data in training and validation set\n",
    "\n",
    "from sklearn.model_selection import train_test_split\n",
    "#train_test_split 切分訓練資料（training samples）與測試資料（testing samples）\n",
    "from sklearn.model_selection import cross_val_score\n",
    "#cross_val_score對資料集進行交叉驗證並印出準確值 \n",
    "\n",
    "drop_wm='wm_BuyFreq'\n",
    "#把label切分出來\n",
    "x_train_Trust=df_Trust_train.drop(drop_wm,axis=1)\n",
    "x_test_Trust=df_Trust_test.drop(drop_wm,axis=1)\n",
    "y_train_Trust=df_Trust_train[drop_wm]\n",
    "y_test_Trust=df_Trust_test[drop_wm]"
   ]
  },
  {
   "cell_type": "code",
   "execution_count": 30,
   "metadata": {},
   "outputs": [
    {
     "data": {
      "text/html": [
       "<div>\n",
       "<style scoped>\n",
       "    .dataframe tbody tr th:only-of-type {\n",
       "        vertical-align: middle;\n",
       "    }\n",
       "\n",
       "    .dataframe tbody tr th {\n",
       "        vertical-align: top;\n",
       "    }\n",
       "\n",
       "    .dataframe thead th {\n",
       "        text-align: right;\n",
       "    }\n",
       "</style>\n",
       "<table border=\"1\" class=\"dataframe\">\n",
       "  <thead>\n",
       "    <tr style=\"text-align: right;\">\n",
       "      <th></th>\n",
       "      <th>CUST_START_DT</th>\n",
       "      <th>Trust_b</th>\n",
       "      <th>wm_BuyFreq</th>\n",
       "      <th>browse_c</th>\n",
       "      <th>freq_c</th>\n",
       "      <th>female</th>\n",
       "      <th>male</th>\n",
       "      <th>avg_income</th>\n",
       "      <th>edu_cut</th>\n",
       "      <th>current_age</th>\n",
       "      <th>assets</th>\n",
       "      <th>freq_c_CUST_START_DT</th>\n",
       "    </tr>\n",
       "  </thead>\n",
       "  <tbody>\n",
       "    <tr>\n",
       "      <th>104770</th>\n",
       "      <td>6299.0</td>\n",
       "      <td>0.0</td>\n",
       "      <td>0.0</td>\n",
       "      <td>14.0</td>\n",
       "      <td>1.0</td>\n",
       "      <td>0</td>\n",
       "      <td>1</td>\n",
       "      <td>1.0</td>\n",
       "      <td>0.0</td>\n",
       "      <td>54.0</td>\n",
       "      <td>1.0</td>\n",
       "      <td>6300.0</td>\n",
       "    </tr>\n",
       "    <tr>\n",
       "      <th>94321</th>\n",
       "      <td>6001.0</td>\n",
       "      <td>0.0</td>\n",
       "      <td>0.0</td>\n",
       "      <td>0.0</td>\n",
       "      <td>13.0</td>\n",
       "      <td>0</td>\n",
       "      <td>1</td>\n",
       "      <td>2.0</td>\n",
       "      <td>1.0</td>\n",
       "      <td>54.0</td>\n",
       "      <td>2.0</td>\n",
       "      <td>6014.0</td>\n",
       "    </tr>\n",
       "    <tr>\n",
       "      <th>40866</th>\n",
       "      <td>0.0</td>\n",
       "      <td>0.0</td>\n",
       "      <td>0.0</td>\n",
       "      <td>0.0</td>\n",
       "      <td>0.0</td>\n",
       "      <td>1</td>\n",
       "      <td>0</td>\n",
       "      <td>1.0</td>\n",
       "      <td>1.0</td>\n",
       "      <td>86.0</td>\n",
       "      <td>1.0</td>\n",
       "      <td>0.0</td>\n",
       "    </tr>\n",
       "    <tr>\n",
       "      <th>74256</th>\n",
       "      <td>9018.0</td>\n",
       "      <td>0.0</td>\n",
       "      <td>0.0</td>\n",
       "      <td>0.0</td>\n",
       "      <td>0.0</td>\n",
       "      <td>0</td>\n",
       "      <td>1</td>\n",
       "      <td>1.0</td>\n",
       "      <td>0.0</td>\n",
       "      <td>46.0</td>\n",
       "      <td>1.0</td>\n",
       "      <td>9018.0</td>\n",
       "    </tr>\n",
       "    <tr>\n",
       "      <th>79576</th>\n",
       "      <td>8027.0</td>\n",
       "      <td>0.0</td>\n",
       "      <td>0.0</td>\n",
       "      <td>0.0</td>\n",
       "      <td>0.0</td>\n",
       "      <td>0</td>\n",
       "      <td>1</td>\n",
       "      <td>1.0</td>\n",
       "      <td>0.0</td>\n",
       "      <td>34.0</td>\n",
       "      <td>1.0</td>\n",
       "      <td>8027.0</td>\n",
       "    </tr>\n",
       "  </tbody>\n",
       "</table>\n",
       "</div>"
      ],
      "text/plain": [
       "        CUST_START_DT  Trust_b  wm_BuyFreq  browse_c  freq_c  female  male  \\\n",
       "104770         6299.0      0.0         0.0      14.0     1.0       0     1   \n",
       "94321          6001.0      0.0         0.0       0.0    13.0       0     1   \n",
       "40866             0.0      0.0         0.0       0.0     0.0       1     0   \n",
       "74256          9018.0      0.0         0.0       0.0     0.0       0     1   \n",
       "79576          8027.0      0.0         0.0       0.0     0.0       0     1   \n",
       "\n",
       "        avg_income  edu_cut  current_age  assets  freq_c_CUST_START_DT  \n",
       "104770         1.0      0.0         54.0     1.0                6300.0  \n",
       "94321          2.0      1.0         54.0     2.0                6014.0  \n",
       "40866          1.0      1.0         86.0     1.0                   0.0  \n",
       "74256          1.0      0.0         46.0     1.0                9018.0  \n",
       "79576          1.0      0.0         34.0     1.0                8027.0  "
      ]
     },
     "execution_count": 30,
     "metadata": {},
     "output_type": "execute_result"
    }
   ],
   "source": [
    "df_Trust_train.head()"
   ]
  },
  {
   "cell_type": "code",
   "execution_count": 31,
   "metadata": {},
   "outputs": [],
   "source": [
    "# Feature scaling 特徵工程\n",
    "from sklearn.preprocessing import StandardScaler\n",
    "sc = StandardScaler()\n",
    "X_train = sc.fit_transform(x_train_Trust)\n",
    "X_test = sc.fit_transform(x_test_Trust)"
   ]
  },
  {
   "cell_type": "code",
   "execution_count": 32,
   "metadata": {},
   "outputs": [],
   "source": [
    "#Random Forest\n",
    "from sklearn.ensemble import RandomForestClassifier\n",
    "from sklearn import metrics\n",
    "from sklearn.metrics import accuracy_score\n",
    "#accuracy_score 預測準確度\n",
    "\n",
    "#Create the model\n",
    "model_Trust_rf= RandomForestClassifier(n_estimators=300)\n",
    "\n",
    "#Fit the model\n",
    "model_Trust_rf.fit(X=X_train,y=y_train_Trust)\n",
    "\n",
    "#Prediction\n",
    "predicion_Trust_rf = model_Trust_rf.predict(X_test)\n",
    "\n",
    "# model_CreditCard_rf.score(x_train_CreditCard, x_test_CreditCard)"
   ]
  },
  {
   "cell_type": "code",
   "execution_count": 33,
   "metadata": {},
   "outputs": [
    {
     "name": "stdout",
     "output_type": "stream",
     "text": [
      "[1. 1. 0. ... 0. 0. 0.]\n",
      "[[0.27833333 0.72166667]\n",
      " [0.42666667 0.57333333]\n",
      " [0.73666667 0.26333333]\n",
      " ...\n",
      " [0.6        0.4       ]\n",
      " [0.75333333 0.24666667]\n",
      " [0.59666667 0.40333333]]\n"
     ]
    }
   ],
   "source": [
    "print(model_Trust_rf.predict(X_test))\n",
    "print(model_Trust_rf.predict_proba(X_test))"
   ]
  },
  {
   "cell_type": "code",
   "execution_count": 34,
   "metadata": {},
   "outputs": [
    {
     "name": "stdout",
     "output_type": "stream",
     "text": [
      "             precision    recall  f1-score   support\n",
      "\n",
      "        0.0       0.98      0.59      0.73     28857\n",
      "        1.0       0.07      0.77      0.13      1143\n",
      "\n",
      "avg / total       0.95      0.59      0.71     30000\n",
      "\n"
     ]
    }
   ],
   "source": [
    "#Clasification report\n",
    "results_Trust_rf=metrics.classification_report(y_true=y_test_Trust, y_pred=predicion_Trust_rf)\n",
    "print(results_Trust_rf)"
   ]
  },
  {
   "cell_type": "code",
   "execution_count": 35,
   "metadata": {},
   "outputs": [
    {
     "data": {
      "text/plain": [
       "0.5928333333333333"
      ]
     },
     "execution_count": 35,
     "metadata": {},
     "output_type": "execute_result"
    },
    {
     "data": {
      "image/png": "[encoded data removed]",
      "text/plain": [
       "<Figure size 360x288 with 2 Axes>"
      ]
     },
     "metadata": {
      "needs_background": "light"
     },
     "output_type": "display_data"
    }
   ],
   "source": [
    "#Confusion matrix\n",
    "cm_rf=metrics.confusion_matrix(y_true=y_test_Trust, y_pred=predicion_Trust_rf)\n",
    "f,ax = plt.subplots(figsize=(5, 4))\n",
    "sns.heatmap(cm_rf, annot=True, linewidths=.5, fmt= '.1f',ax=ax);\n",
    "#預測準確度\n",
    "accuracy_score(y_test_Trust, predicion_Trust_rf)"
   ]
  },
  {
   "cell_type": "markdown",
   "metadata": {},
   "source": [
    "# Take out the 0's data in order to balance 1's in 1:3 "
   ]
  },
  {
   "cell_type": "code",
   "execution_count": 36,
   "metadata": {},
   "outputs": [
    {
     "data": {
      "text/html": [
       "<div>\n",
       "<style scoped>\n",
       "    .dataframe tbody tr th:only-of-type {\n",
       "        vertical-align: middle;\n",
       "    }\n",
       "\n",
       "    .dataframe tbody tr th {\n",
       "        vertical-align: top;\n",
       "    }\n",
       "\n",
       "    .dataframe thead th {\n",
       "        text-align: right;\n",
       "    }\n",
       "</style>\n",
       "<table border=\"1\" class=\"dataframe\">\n",
       "  <thead>\n",
       "    <tr style=\"text-align: right;\">\n",
       "      <th></th>\n",
       "      <th>CUST_START_DT</th>\n",
       "      <th>Loan_b</th>\n",
       "      <th>browse_c</th>\n",
       "      <th>freq_c</th>\n",
       "      <th>female</th>\n",
       "      <th>male</th>\n",
       "      <th>avg_income</th>\n",
       "      <th>edu_cut</th>\n",
       "      <th>current_age</th>\n",
       "      <th>assets</th>\n",
       "      <th>freq_c_CUST_START_DT</th>\n",
       "    </tr>\n",
       "    <tr>\n",
       "      <th>ln_BuyFreq</th>\n",
       "      <th></th>\n",
       "      <th></th>\n",
       "      <th></th>\n",
       "      <th></th>\n",
       "      <th></th>\n",
       "      <th></th>\n",
       "      <th></th>\n",
       "      <th></th>\n",
       "      <th></th>\n",
       "      <th></th>\n",
       "      <th></th>\n",
       "    </tr>\n",
       "  </thead>\n",
       "  <tbody>\n",
       "    <tr>\n",
       "      <th>0.0</th>\n",
       "      <td>125544</td>\n",
       "      <td>125544</td>\n",
       "      <td>125544</td>\n",
       "      <td>125544</td>\n",
       "      <td>125544</td>\n",
       "      <td>125544</td>\n",
       "      <td>125544</td>\n",
       "      <td>125544</td>\n",
       "      <td>125544</td>\n",
       "      <td>125544</td>\n",
       "      <td>125544</td>\n",
       "    </tr>\n",
       "    <tr>\n",
       "      <th>1.0</th>\n",
       "      <td>1768</td>\n",
       "      <td>1768</td>\n",
       "      <td>1768</td>\n",
       "      <td>1768</td>\n",
       "      <td>1768</td>\n",
       "      <td>1768</td>\n",
       "      <td>1768</td>\n",
       "      <td>1768</td>\n",
       "      <td>1768</td>\n",
       "      <td>1768</td>\n",
       "      <td>1768</td>\n",
       "    </tr>\n",
       "  </tbody>\n",
       "</table>\n",
       "</div>"
      ],
      "text/plain": [
       "            CUST_START_DT  Loan_b  browse_c  freq_c  female    male  \\\n",
       "ln_BuyFreq                                                            \n",
       "0.0                125544  125544    125544  125544  125544  125544   \n",
       "1.0                  1768    1768      1768    1768    1768    1768   \n",
       "\n",
       "            avg_income  edu_cut  current_age  assets  freq_c_CUST_START_DT  \n",
       "ln_BuyFreq                                                                  \n",
       "0.0             125544   125544       125544  125544                125544  \n",
       "1.0               1768     1768         1768    1768                  1768  "
      ]
     },
     "execution_count": 36,
     "metadata": {},
     "output_type": "execute_result"
    }
   ],
   "source": [
    "df_Loan_train.groupby('ln_BuyFreq').count() # 5304  "
   ]
  },
  {
   "cell_type": "code",
   "execution_count": 37,
   "metadata": {},
   "outputs": [
    {
     "data": {
      "text/plain": [
       "(7072, 12)"
      ]
     },
     "execution_count": 37,
     "metadata": {},
     "output_type": "execute_result"
    }
   ],
   "source": [
    "df_Loan_train_0=df_Loan_train.loc[df_Loan_train['ln_BuyFreq']==0]\n",
    "df_Loan_train_1=df_Loan_train.loc[df_Loan_train['ln_BuyFreq']==1]\n",
    "\n",
    "df_Loan_train_0 = shuffle(df_Loan_train_0)\n",
    "\n",
    "df_Loan_train_0=df_Loan_train_0.iloc[:5304,:]\n",
    "df_Loan_train=pd.concat([df_Loan_train_0,df_Loan_train_1])\n",
    "\n",
    "df_Loan_train=shuffle(df_Loan_train)\n",
    "df_Loan_train.shape"
   ]
  },
  {
   "cell_type": "code",
   "execution_count": null,
   "metadata": {},
   "outputs": [],
   "source": []
  },
  {
   "cell_type": "code",
   "execution_count": 38,
   "metadata": {},
   "outputs": [],
   "source": [
    "#信貸\n",
    "#機器學習 Machine Learning\n",
    "#切分訓練與驗證資料 Separate data in training and validation set\n",
    "\n",
    "from sklearn.model_selection import train_test_split\n",
    "#train_test_split 切分訓練資料（training samples）與測試資料（testing samples）\n",
    "from sklearn.model_selection import cross_val_score\n",
    "#cross_val_score對資料集進行交叉驗證並印出準確值 \n",
    "\n",
    "drop_ln='ln_BuyFreq'\n",
    "\n",
    "#切分資料 test_size為30%\n",
    "x_train_Loan=df_Loan_train.drop(drop_ln,axis=1)\n",
    "x_test_Loan=df_Loan_test.drop(drop_ln,axis=1)\n",
    "y_train_Loan=df_Loan_train[drop_ln]\n",
    "y_test_Loan=df_Loan_test[drop_ln]"
   ]
  },
  {
   "cell_type": "code",
   "execution_count": 39,
   "metadata": {},
   "outputs": [],
   "source": [
    "# Feature scaling 特徵工程\n",
    "from sklearn.preprocessing import StandardScaler\n",
    "sc = StandardScaler()\n",
    "X_train = sc.fit_transform(x_train_Loan)\n",
    "X_test = sc.fit_transform(x_test_Loan)"
   ]
  },
  {
   "cell_type": "code",
   "execution_count": 40,
   "metadata": {},
   "outputs": [],
   "source": [
    "#Random Forest\n",
    "from sklearn.ensemble import RandomForestClassifier\n",
    "from sklearn import metrics\n",
    "from sklearn.metrics import accuracy_score\n",
    "#accuracy_score 預測準確度\n",
    "\n",
    "#Create the model\n",
    "model_Loan_rf= RandomForestClassifier(n_estimators=300)\n",
    "\n",
    "#Fit the model\n",
    "model_Loan_rf.fit(X=X_train,y=y_train_Loan)\n",
    "\n",
    "#Prediction\n",
    "predicion_Loan_rf = model_Loan_rf.predict(X_test)\n",
    "\n",
    "#model_CreditCard_rf.score(x_train_CreditCard, x_test_CreditCard)"
   ]
  },
  {
   "cell_type": "code",
   "execution_count": 41,
   "metadata": {},
   "outputs": [
    {
     "name": "stdout",
     "output_type": "stream",
     "text": [
      "[0. 0. 1. ... 0. 0. 0.]\n",
      "[[1.         0.        ]\n",
      " [0.98       0.02      ]\n",
      " [0.05333333 0.94666667]\n",
      " ...\n",
      " [1.         0.        ]\n",
      " [1.         0.        ]\n",
      " [1.         0.        ]]\n"
     ]
    }
   ],
   "source": [
    "print(model_Loan_rf.predict(X_test))\n",
    "print(model_Loan_rf.predict_proba(X_test))"
   ]
  },
  {
   "cell_type": "code",
   "execution_count": 42,
   "metadata": {},
   "outputs": [
    {
     "name": "stdout",
     "output_type": "stream",
     "text": [
      "             precision    recall  f1-score   support\n",
      "\n",
      "        0.0       1.00      0.89      0.94     29594\n",
      "        1.0       0.10      0.88      0.18       406\n",
      "\n",
      "avg / total       0.99      0.89      0.93     30000\n",
      "\n"
     ]
    }
   ],
   "source": [
    "#Clasification report\n",
    "results_Loan_rf=metrics.classification_report(y_true=y_test_Loan, y_pred=predicion_Loan_rf)\n",
    "print(results_Loan_rf)"
   ]
  },
  {
   "cell_type": "code",
   "execution_count": 43,
   "metadata": {},
   "outputs": [
    {
     "data": {
      "text/plain": [
       "0.8925"
      ]
     },
     "execution_count": 43,
     "metadata": {},
     "output_type": "execute_result"
    },
    {
     "data": {
      "image/png": "[encoded data removed]",
      "text/plain": [
       "<Figure size 360x288 with 2 Axes>"
      ]
     },
     "metadata": {
      "needs_background": "light"
     },
     "output_type": "display_data"
    }
   ],
   "source": [
    "#Confusion matrix\n",
    "cm_rf=metrics.confusion_matrix(y_true=y_test_Loan, y_pred=predicion_Loan_rf)\n",
    "f,ax = plt.subplots(figsize=(5, 4))\n",
    "sns.heatmap(cm_rf, annot=True, linewidths=.5, fmt= '.1f',ax=ax);\n",
    "#預測準確度\n",
    "accuracy_score(y_test_Loan, predicion_Loan_rf)"
   ]
  },
  {
   "cell_type": "code",
   "execution_count": 44,
   "metadata": {},
   "outputs": [
    {
     "name": "stdout",
     "output_type": "stream",
     "text": [
      "CreditCard [0. 0. 1. ... 0. 0. 0.]\n",
      "ForEx [0. 0. 0. ... 0. 0. 0.]\n",
      "Trust [1. 1. 0. ... 0. 0. 0.]\n",
      "Loan [0. 0. 1. ... 0. 0. 0.]\n"
     ]
    }
   ],
   "source": [
    "print('CreditCard',predicion_CreditCard_rf)\n",
    "print('ForEx',predicion_ForEx_rf)\n",
    "print('Trust',predicion_Trust_rf)\n",
    "print('Loan',predicion_Loan_rf)"
   ]
  },
  {
   "cell_type": "code",
   "execution_count": 45,
   "metadata": {},
   "outputs": [],
   "source": [
    "# 把每一格更新一下\n",
    "\n",
    "answer['CC_IND']=predicion_CreditCard_rf\n",
    "answer['FX_IND']=predicion_ForEx_rf\n",
    "answer['LN_IND']=predicion_Loan_rf\n",
    "answer['WM_IND']=predicion_Trust_rf\n"
   ]
  },
  {
   "cell_type": "code",
   "execution_count": 46,
   "metadata": {},
   "outputs": [],
   "source": [
    "# 要交出去的檔案\n",
    "answer.to_csv('../Answer/TBN_Y_ZERO.csv')"
   ]
  },
  {
   "cell_type": "code",
   "execution_count": null,
   "metadata": {},
   "outputs": [],
   "source": []
  },
  {
   "cell_type": "code",
   "execution_count": null,
   "metadata": {},
   "outputs": [],
   "source": []
  }
 ],
 "metadata": {
  "kernelspec": {
   "display_name": "Python 3",
   "language": "python",
   "name": "python3"
  },
  "language_info": {
   "codemirror_mode": {
    "name": "ipython",
    "version": 3
   },
   "file_extension": ".py",
   "mimetype": "text/x-python",
   "name": "python",
   "nbconvert_exporter": "python",
   "pygments_lexer": "ipython3",
   "version": "3.6.8"
  }
 },
 "nbformat": 4,
 "nbformat_minor": 2
}
