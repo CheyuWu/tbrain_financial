{
 "cells": [
  {
   "cell_type": "code",
   "execution_count": 1,
   "metadata": {},
   "outputs": [],
   "source": [
    "import pandas as pd"
   ]
  },
  {
   "cell_type": "code",
   "execution_count": 2,
   "metadata": {
    "scrolled": true
   },
   "outputs": [
    {
     "data": {
      "text/html": [
       "<div>\n",
       "<style scoped>\n",
       "    .dataframe tbody tr th:only-of-type {\n",
       "        vertical-align: middle;\n",
       "    }\n",
       "\n",
       "    .dataframe tbody tr th {\n",
       "        vertical-align: top;\n",
       "    }\n",
       "\n",
       "    .dataframe thead th {\n",
       "        text-align: right;\n",
       "    }\n",
       "</style>\n",
       "<table border=\"1\" class=\"dataframe\">\n",
       "  <thead>\n",
       "    <tr style=\"text-align: right;\">\n",
       "      <th></th>\n",
       "      <th>Unnamed: 0</th>\n",
       "      <th>CUST_NO</th>\n",
       "      <th>AGE</th>\n",
       "      <th>CHILDREN_CNT</th>\n",
       "      <th>CUST_START_DT</th>\n",
       "      <th>EDU_CODE</th>\n",
       "      <th>GENDER_CODE</th>\n",
       "      <th>INCOME_RANGE_CODE</th>\n",
       "      <th>WORK_MTHS</th>\n",
       "      <th>CreditCard_b</th>\n",
       "      <th>...</th>\n",
       "      <th>wm_BuyFreq</th>\n",
       "      <th>browse_c</th>\n",
       "      <th>freq_c</th>\n",
       "      <th>female</th>\n",
       "      <th>male</th>\n",
       "      <th>avg_income</th>\n",
       "      <th>edu_cut</th>\n",
       "      <th>current_age</th>\n",
       "      <th>assets</th>\n",
       "      <th>freq_c_CUST_START_DT</th>\n",
       "    </tr>\n",
       "  </thead>\n",
       "  <tbody>\n",
       "    <tr>\n",
       "      <th>0</th>\n",
       "      <td>0</td>\n",
       "      <td>MNEZK2O3OE-JHYBW</td>\n",
       "      <td>4.0</td>\n",
       "      <td>0.0</td>\n",
       "      <td>2912.0</td>\n",
       "      <td>3.0</td>\n",
       "      <td>Female</td>\n",
       "      <td>2.0</td>\n",
       "      <td>2.0</td>\n",
       "      <td>0.0</td>\n",
       "      <td>...</td>\n",
       "      <td>0.0</td>\n",
       "      <td>0.0</td>\n",
       "      <td>14.0</td>\n",
       "      <td>1</td>\n",
       "      <td>0</td>\n",
       "      <td>2.0</td>\n",
       "      <td>0.0</td>\n",
       "      <td>78.0</td>\n",
       "      <td>4.0</td>\n",
       "      <td>2926.0</td>\n",
       "    </tr>\n",
       "    <tr>\n",
       "      <th>1</th>\n",
       "      <td>1</td>\n",
       "      <td>W7ADZSWYXEMHB7JQ</td>\n",
       "      <td>4.0</td>\n",
       "      <td>0.0</td>\n",
       "      <td>8332.0</td>\n",
       "      <td>5.0</td>\n",
       "      <td>Female</td>\n",
       "      <td>2.0</td>\n",
       "      <td>1.0</td>\n",
       "      <td>0.0</td>\n",
       "      <td>...</td>\n",
       "      <td>0.0</td>\n",
       "      <td>0.0</td>\n",
       "      <td>0.0</td>\n",
       "      <td>1</td>\n",
       "      <td>0</td>\n",
       "      <td>2.0</td>\n",
       "      <td>1.0</td>\n",
       "      <td>63.0</td>\n",
       "      <td>2.0</td>\n",
       "      <td>8332.0</td>\n",
       "    </tr>\n",
       "    <tr>\n",
       "      <th>2</th>\n",
       "      <td>2</td>\n",
       "      <td>ODB6BA6ORHL2UYZE</td>\n",
       "      <td>4.0</td>\n",
       "      <td>0.0</td>\n",
       "      <td>744.0</td>\n",
       "      <td>3.0</td>\n",
       "      <td>Female</td>\n",
       "      <td>2.0</td>\n",
       "      <td>1.0</td>\n",
       "      <td>0.0</td>\n",
       "      <td>...</td>\n",
       "      <td>0.0</td>\n",
       "      <td>0.0</td>\n",
       "      <td>0.0</td>\n",
       "      <td>1</td>\n",
       "      <td>0</td>\n",
       "      <td>2.0</td>\n",
       "      <td>0.0</td>\n",
       "      <td>84.0</td>\n",
       "      <td>2.0</td>\n",
       "      <td>744.0</td>\n",
       "    </tr>\n",
       "    <tr>\n",
       "      <th>3</th>\n",
       "      <td>3</td>\n",
       "      <td>SURN2CDMNHCL4SJC</td>\n",
       "      <td>4.0</td>\n",
       "      <td>0.0</td>\n",
       "      <td>4677.0</td>\n",
       "      <td>2.0</td>\n",
       "      <td>Female</td>\n",
       "      <td>2.0</td>\n",
       "      <td>1.0</td>\n",
       "      <td>1.0</td>\n",
       "      <td>...</td>\n",
       "      <td>0.0</td>\n",
       "      <td>25.0</td>\n",
       "      <td>17.0</td>\n",
       "      <td>1</td>\n",
       "      <td>0</td>\n",
       "      <td>2.0</td>\n",
       "      <td>0.0</td>\n",
       "      <td>73.0</td>\n",
       "      <td>2.0</td>\n",
       "      <td>4694.0</td>\n",
       "    </tr>\n",
       "    <tr>\n",
       "      <th>4</th>\n",
       "      <td>4</td>\n",
       "      <td>1SMBYIP5SSUNG1DW</td>\n",
       "      <td>4.0</td>\n",
       "      <td>0.0</td>\n",
       "      <td>7936.0</td>\n",
       "      <td>6.0</td>\n",
       "      <td>Female</td>\n",
       "      <td>1.0</td>\n",
       "      <td>1.0</td>\n",
       "      <td>0.0</td>\n",
       "      <td>...</td>\n",
       "      <td>0.0</td>\n",
       "      <td>0.0</td>\n",
       "      <td>0.0</td>\n",
       "      <td>1</td>\n",
       "      <td>0</td>\n",
       "      <td>1.0</td>\n",
       "      <td>1.0</td>\n",
       "      <td>64.0</td>\n",
       "      <td>1.0</td>\n",
       "      <td>7936.0</td>\n",
       "    </tr>\n",
       "  </tbody>\n",
       "</table>\n",
       "<p>5 rows × 26 columns</p>\n",
       "</div>"
      ],
      "text/plain": [
       "   Unnamed: 0           CUST_NO  AGE  CHILDREN_CNT  CUST_START_DT  EDU_CODE  \\\n",
       "0           0  MNEZK2O3OE-JHYBW  4.0           0.0         2912.0       3.0   \n",
       "1           1  W7ADZSWYXEMHB7JQ  4.0           0.0         8332.0       5.0   \n",
       "2           2  ODB6BA6ORHL2UYZE  4.0           0.0          744.0       3.0   \n",
       "3           3  SURN2CDMNHCL4SJC  4.0           0.0         4677.0       2.0   \n",
       "4           4  1SMBYIP5SSUNG1DW  4.0           0.0         7936.0       6.0   \n",
       "\n",
       "  GENDER_CODE  INCOME_RANGE_CODE  WORK_MTHS  CreditCard_b  \\\n",
       "0      Female                2.0        2.0           0.0   \n",
       "1      Female                2.0        1.0           0.0   \n",
       "2      Female                2.0        1.0           0.0   \n",
       "3      Female                2.0        1.0           1.0   \n",
       "4      Female                1.0        1.0           0.0   \n",
       "\n",
       "           ...           wm_BuyFreq  browse_c  freq_c  female  male  \\\n",
       "0          ...                  0.0       0.0    14.0       1     0   \n",
       "1          ...                  0.0       0.0     0.0       1     0   \n",
       "2          ...                  0.0       0.0     0.0       1     0   \n",
       "3          ...                  0.0      25.0    17.0       1     0   \n",
       "4          ...                  0.0       0.0     0.0       1     0   \n",
       "\n",
       "   avg_income  edu_cut  current_age  assets  freq_c_CUST_START_DT  \n",
       "0         2.0      0.0         78.0     4.0                2926.0  \n",
       "1         2.0      1.0         63.0     2.0                8332.0  \n",
       "2         2.0      0.0         84.0     2.0                 744.0  \n",
       "3         2.0      0.0         73.0     2.0                4694.0  \n",
       "4         1.0      1.0         64.0     1.0                7936.0  \n",
       "\n",
       "[5 rows x 26 columns]"
      ]
     },
     "execution_count": 2,
     "metadata": {},
     "output_type": "execute_result"
    }
   ],
   "source": [
    "df = pd.read_csv('cif_combine_browse.csv')\n",
    "df.head()"
   ]
  },
  {
   "cell_type": "code",
   "execution_count": 3,
   "metadata": {},
   "outputs": [],
   "source": [
    "#挑出 答案卷 30,000 筆的資料\n",
    "answer=pd.read_csv('TBN_Y_ZERO.csv')\n",
    "ans_arr=[] # 在答案卷裡面的 id\n",
    "\n",
    "for i in answer.iloc[:,0]:\n",
    "    ans_arr.append(i)\n",
    "    \n",
    "x_test_index=[] # 把答案卷裡面的 (predict_index)\n",
    "x_train_index = [] # 準備用來training 的 array (train_index)\n",
    "\n",
    "for index,row in df.iterrows():\n",
    "    if row.values[0] in ans_arr:\n",
    "        x_test_index.append(index)\n",
    "    else :\n",
    "        x_train_index.append(index)"
   ]
  },
  {
   "cell_type": "code",
   "execution_count": 4,
   "metadata": {},
   "outputs": [
    {
     "data": {
      "text/html": [
       "<div>\n",
       "<style scoped>\n",
       "    .dataframe tbody tr th:only-of-type {\n",
       "        vertical-align: middle;\n",
       "    }\n",
       "\n",
       "    .dataframe tbody tr th {\n",
       "        vertical-align: top;\n",
       "    }\n",
       "\n",
       "    .dataframe thead th {\n",
       "        text-align: right;\n",
       "    }\n",
       "</style>\n",
       "<table border=\"1\" class=\"dataframe\">\n",
       "  <thead>\n",
       "    <tr style=\"text-align: right;\">\n",
       "      <th></th>\n",
       "      <th>Unnamed: 0</th>\n",
       "      <th>CUST_NO</th>\n",
       "      <th>AGE</th>\n",
       "      <th>CHILDREN_CNT</th>\n",
       "      <th>CUST_START_DT</th>\n",
       "      <th>EDU_CODE</th>\n",
       "      <th>GENDER_CODE</th>\n",
       "      <th>INCOME_RANGE_CODE</th>\n",
       "      <th>WORK_MTHS</th>\n",
       "      <th>CreditCard_b</th>\n",
       "      <th>...</th>\n",
       "      <th>wm_BuyFreq</th>\n",
       "      <th>browse_c</th>\n",
       "      <th>freq_c</th>\n",
       "      <th>female</th>\n",
       "      <th>male</th>\n",
       "      <th>avg_income</th>\n",
       "      <th>edu_cut</th>\n",
       "      <th>current_age</th>\n",
       "      <th>assets</th>\n",
       "      <th>freq_c_CUST_START_DT</th>\n",
       "    </tr>\n",
       "  </thead>\n",
       "  <tbody>\n",
       "    <tr>\n",
       "      <th>0</th>\n",
       "      <td>0</td>\n",
       "      <td>MNEZK2O3OE-JHYBW</td>\n",
       "      <td>4.0</td>\n",
       "      <td>0.0</td>\n",
       "      <td>2912.0</td>\n",
       "      <td>3.0</td>\n",
       "      <td>Female</td>\n",
       "      <td>2.0</td>\n",
       "      <td>2.0</td>\n",
       "      <td>0.0</td>\n",
       "      <td>...</td>\n",
       "      <td>0.0</td>\n",
       "      <td>0.0</td>\n",
       "      <td>14.0</td>\n",
       "      <td>1</td>\n",
       "      <td>0</td>\n",
       "      <td>2.0</td>\n",
       "      <td>0.0</td>\n",
       "      <td>78.0</td>\n",
       "      <td>4.0</td>\n",
       "      <td>2926.0</td>\n",
       "    </tr>\n",
       "    <tr>\n",
       "      <th>1</th>\n",
       "      <td>1</td>\n",
       "      <td>W7ADZSWYXEMHB7JQ</td>\n",
       "      <td>4.0</td>\n",
       "      <td>0.0</td>\n",
       "      <td>8332.0</td>\n",
       "      <td>5.0</td>\n",
       "      <td>Female</td>\n",
       "      <td>2.0</td>\n",
       "      <td>1.0</td>\n",
       "      <td>0.0</td>\n",
       "      <td>...</td>\n",
       "      <td>0.0</td>\n",
       "      <td>0.0</td>\n",
       "      <td>0.0</td>\n",
       "      <td>1</td>\n",
       "      <td>0</td>\n",
       "      <td>2.0</td>\n",
       "      <td>1.0</td>\n",
       "      <td>63.0</td>\n",
       "      <td>2.0</td>\n",
       "      <td>8332.0</td>\n",
       "    </tr>\n",
       "    <tr>\n",
       "      <th>2</th>\n",
       "      <td>2</td>\n",
       "      <td>ODB6BA6ORHL2UYZE</td>\n",
       "      <td>4.0</td>\n",
       "      <td>0.0</td>\n",
       "      <td>744.0</td>\n",
       "      <td>3.0</td>\n",
       "      <td>Female</td>\n",
       "      <td>2.0</td>\n",
       "      <td>1.0</td>\n",
       "      <td>0.0</td>\n",
       "      <td>...</td>\n",
       "      <td>0.0</td>\n",
       "      <td>0.0</td>\n",
       "      <td>0.0</td>\n",
       "      <td>1</td>\n",
       "      <td>0</td>\n",
       "      <td>2.0</td>\n",
       "      <td>0.0</td>\n",
       "      <td>84.0</td>\n",
       "      <td>2.0</td>\n",
       "      <td>744.0</td>\n",
       "    </tr>\n",
       "    <tr>\n",
       "      <th>3</th>\n",
       "      <td>3</td>\n",
       "      <td>SURN2CDMNHCL4SJC</td>\n",
       "      <td>4.0</td>\n",
       "      <td>0.0</td>\n",
       "      <td>4677.0</td>\n",
       "      <td>2.0</td>\n",
       "      <td>Female</td>\n",
       "      <td>2.0</td>\n",
       "      <td>1.0</td>\n",
       "      <td>1.0</td>\n",
       "      <td>...</td>\n",
       "      <td>0.0</td>\n",
       "      <td>25.0</td>\n",
       "      <td>17.0</td>\n",
       "      <td>1</td>\n",
       "      <td>0</td>\n",
       "      <td>2.0</td>\n",
       "      <td>0.0</td>\n",
       "      <td>73.0</td>\n",
       "      <td>2.0</td>\n",
       "      <td>4694.0</td>\n",
       "    </tr>\n",
       "    <tr>\n",
       "      <th>4</th>\n",
       "      <td>4</td>\n",
       "      <td>1SMBYIP5SSUNG1DW</td>\n",
       "      <td>4.0</td>\n",
       "      <td>0.0</td>\n",
       "      <td>7936.0</td>\n",
       "      <td>6.0</td>\n",
       "      <td>Female</td>\n",
       "      <td>1.0</td>\n",
       "      <td>1.0</td>\n",
       "      <td>0.0</td>\n",
       "      <td>...</td>\n",
       "      <td>0.0</td>\n",
       "      <td>0.0</td>\n",
       "      <td>0.0</td>\n",
       "      <td>1</td>\n",
       "      <td>0</td>\n",
       "      <td>1.0</td>\n",
       "      <td>1.0</td>\n",
       "      <td>64.0</td>\n",
       "      <td>1.0</td>\n",
       "      <td>7936.0</td>\n",
       "    </tr>\n",
       "  </tbody>\n",
       "</table>\n",
       "<p>5 rows × 26 columns</p>\n",
       "</div>"
      ],
      "text/plain": [
       "   Unnamed: 0           CUST_NO  AGE  CHILDREN_CNT  CUST_START_DT  EDU_CODE  \\\n",
       "0           0  MNEZK2O3OE-JHYBW  4.0           0.0         2912.0       3.0   \n",
       "1           1  W7ADZSWYXEMHB7JQ  4.0           0.0         8332.0       5.0   \n",
       "2           2  ODB6BA6ORHL2UYZE  4.0           0.0          744.0       3.0   \n",
       "3           3  SURN2CDMNHCL4SJC  4.0           0.0         4677.0       2.0   \n",
       "4           4  1SMBYIP5SSUNG1DW  4.0           0.0         7936.0       6.0   \n",
       "\n",
       "  GENDER_CODE  INCOME_RANGE_CODE  WORK_MTHS  CreditCard_b  \\\n",
       "0      Female                2.0        2.0           0.0   \n",
       "1      Female                2.0        1.0           0.0   \n",
       "2      Female                2.0        1.0           0.0   \n",
       "3      Female                2.0        1.0           1.0   \n",
       "4      Female                1.0        1.0           0.0   \n",
       "\n",
       "           ...           wm_BuyFreq  browse_c  freq_c  female  male  \\\n",
       "0          ...                  0.0       0.0    14.0       1     0   \n",
       "1          ...                  0.0       0.0     0.0       1     0   \n",
       "2          ...                  0.0       0.0     0.0       1     0   \n",
       "3          ...                  0.0      25.0    17.0       1     0   \n",
       "4          ...                  0.0       0.0     0.0       1     0   \n",
       "\n",
       "   avg_income  edu_cut  current_age  assets  freq_c_CUST_START_DT  \n",
       "0         2.0      0.0         78.0     4.0                2926.0  \n",
       "1         2.0      1.0         63.0     2.0                8332.0  \n",
       "2         2.0      0.0         84.0     2.0                 744.0  \n",
       "3         2.0      0.0         73.0     2.0                4694.0  \n",
       "4         1.0      1.0         64.0     1.0                7936.0  \n",
       "\n",
       "[5 rows x 26 columns]"
      ]
     },
     "execution_count": 4,
     "metadata": {},
     "output_type": "execute_result"
    }
   ],
   "source": [
    "df.head()"
   ]
  },
  {
   "cell_type": "code",
   "execution_count": 5,
   "metadata": {},
   "outputs": [],
   "source": [
    "#切成training data 和 testing data\n",
    "\n",
    "df_x_test= df.iloc[x_test_index,:]\n",
    "df_x_train=df.iloc[x_train_index,:]"
   ]
  },
  {
   "cell_type": "code",
   "execution_count": 6,
   "metadata": {},
   "outputs": [
    {
     "data": {
      "text/plain": [
       "(0, 26)"
      ]
     },
     "execution_count": 6,
     "metadata": {},
     "output_type": "execute_result"
    }
   ],
   "source": [
    "df_x_test.shape"
   ]
  },
  {
   "cell_type": "code",
   "execution_count": 7,
   "metadata": {},
   "outputs": [
    {
     "data": {
      "text/plain": [
       "(157312, 26)"
      ]
     },
     "execution_count": 7,
     "metadata": {},
     "output_type": "execute_result"
    }
   ],
   "source": [
    "df_x_train.shape"
   ]
  },
  {
   "cell_type": "code",
   "execution_count": null,
   "metadata": {},
   "outputs": [],
   "source": []
  },
  {
   "cell_type": "code",
   "execution_count": 8,
   "metadata": {},
   "outputs": [],
   "source": [
    "# 分別刪除各項金融產品建立不同的model\n",
    "CreditCard = ['CUST_NO','ForEx_b','fx_BuyFreq','Trust_b','ln_BuyFreq','Loan_b','wm_BuyFreq',\n",
    "              'AGE','CHILDREN_CNT','EDU_CODE','INCOME_RANGE_CODE','WORK_MTHS']\n",
    "\n",
    "ForEx = ['CUST_NO','CreditCard_b','cc_BuyFreq','Trust_b','ln_BuyFreq','Loan_b','wm_BuyFreq',\n",
    "         'AGE','CHILDREN_CNT','EDU_CODE','INCOME_RANGE_CODE','WORK_MTHS']\n",
    "\n",
    "Loan = ['CUST_NO','CreditCard_b','cc_BuyFreq','ForEx_b','fx_BuyFreq','Trust_b','wm_BuyFreq',\n",
    "       'AGE','CHILDREN_CNT','EDU_CODE','INCOME_RANGE_CODE','WORK_MTHS']\n",
    "\n",
    "Trust = ['CUST_NO','CreditCard_b','cc_BuyFreq','ForEx_b','fx_BuyFreq','Loan_b','ln_BuyFreq',\n",
    "        'AGE','CHILDREN_CNT','EDU_CODE','INCOME_RANGE_CODE','WORK_MTHS']\n",
    "\n",
    "# training data\n",
    "df_CreditCard_train = df_x_train.drop(CreditCard, axis=1)\n",
    "df_ForEx_train = df_x_train.drop(ForEx, axis=1)\n",
    "df_Loan_train = df_x_train.drop(Loan, axis=1)\n",
    "df_Trust_train = df_x_train.drop(Trust, axis=1)\n",
    "\n",
    "# testing data\n",
    "df_CreditCard_test = df_x_test.drop(CreditCard, axis=1)\n",
    "df_ForEx_test = df_x_test.drop(ForEx, axis=1)\n",
    "df_Loan_test = df_x_test.drop(Loan, axis=1)\n",
    "df_Trust_test = df_x_test.drop(Trust, axis=1)"
   ]
  },
  {
   "cell_type": "code",
   "execution_count": null,
   "metadata": {},
   "outputs": [],
   "source": []
  },
  {
   "cell_type": "code",
   "execution_count": 9,
   "metadata": {},
   "outputs": [],
   "source": [
    "#信用卡\n",
    "#機器學習 Machine Learning\n",
    "#切分訓練與驗證資料 Separate data in training and validation set\n",
    "\n",
    "from sklearn.model_selection import train_test_split\n",
    "#train_test_split 切分訓練資料（training samples）與測試資料（testing samples）\n",
    "from sklearn.model_selection import cross_val_score\n",
    "#cross_val_score對資料集進行交叉驗證並印出準確值 \n",
    "\n",
    "drop_cc='cc_BuyFreq'\n",
    "#把label切分出來\n",
    "x_train_CreditCard=df_CreditCard_train.drop(drop_cc,axis=1)\n",
    "x_test_CreditCard=df_CreditCard_test.drop(drop_cc,axis=1)\n",
    "y_train_CreditCard=df_CreditCard_train[drop_cc]\n",
    "y_test_CreditCard=df_CreditCard_test[drop_cc]"
   ]
  },
  {
   "cell_type": "code",
   "execution_count": 10,
   "metadata": {},
   "outputs": [
    {
     "ename": "ValueError",
     "evalue": "could not convert string to float: 'Female'",
     "output_type": "error",
     "traceback": [
      "\u001b[0;31m---------------------------------------------------------------------------\u001b[0m",
      "\u001b[0;31mValueError\u001b[0m                                Traceback (most recent call last)",
      "\u001b[0;32m<ipython-input-10-aab9ed14714e>\u001b[0m in \u001b[0;36m<module>\u001b[0;34m\u001b[0m\n\u001b[1;32m      2\u001b[0m \u001b[0;32mfrom\u001b[0m \u001b[0msklearn\u001b[0m\u001b[0;34m.\u001b[0m\u001b[0mpreprocessing\u001b[0m \u001b[0;32mimport\u001b[0m \u001b[0mStandardScaler\u001b[0m\u001b[0;34m\u001b[0m\u001b[0;34m\u001b[0m\u001b[0m\n\u001b[1;32m      3\u001b[0m \u001b[0msc\u001b[0m \u001b[0;34m=\u001b[0m \u001b[0mStandardScaler\u001b[0m\u001b[0;34m(\u001b[0m\u001b[0;34m)\u001b[0m\u001b[0;34m\u001b[0m\u001b[0;34m\u001b[0m\u001b[0m\n\u001b[0;32m----> 4\u001b[0;31m \u001b[0mX_train\u001b[0m \u001b[0;34m=\u001b[0m \u001b[0msc\u001b[0m\u001b[0;34m.\u001b[0m\u001b[0mfit_transform\u001b[0m\u001b[0;34m(\u001b[0m\u001b[0mx_train_CreditCard\u001b[0m\u001b[0;34m)\u001b[0m\u001b[0;34m\u001b[0m\u001b[0;34m\u001b[0m\u001b[0m\n\u001b[0m\u001b[1;32m      5\u001b[0m \u001b[0mX_test\u001b[0m \u001b[0;34m=\u001b[0m \u001b[0msc\u001b[0m\u001b[0;34m.\u001b[0m\u001b[0mfit_transform\u001b[0m\u001b[0;34m(\u001b[0m\u001b[0mx_test_CreditCard\u001b[0m\u001b[0;34m)\u001b[0m\u001b[0;34m\u001b[0m\u001b[0;34m\u001b[0m\u001b[0m\n",
      "\u001b[0;32m~/anaconda3/lib/python3.6/site-packages/sklearn/base.py\u001b[0m in \u001b[0;36mfit_transform\u001b[0;34m(self, X, y, **fit_params)\u001b[0m\n\u001b[1;32m    515\u001b[0m         \u001b[0;32mif\u001b[0m \u001b[0my\u001b[0m \u001b[0;32mis\u001b[0m \u001b[0;32mNone\u001b[0m\u001b[0;34m:\u001b[0m\u001b[0;34m\u001b[0m\u001b[0;34m\u001b[0m\u001b[0m\n\u001b[1;32m    516\u001b[0m             \u001b[0;31m# fit method of arity 1 (unsupervised transformation)\u001b[0m\u001b[0;34m\u001b[0m\u001b[0;34m\u001b[0m\u001b[0;34m\u001b[0m\u001b[0m\n\u001b[0;32m--> 517\u001b[0;31m             \u001b[0;32mreturn\u001b[0m \u001b[0mself\u001b[0m\u001b[0;34m.\u001b[0m\u001b[0mfit\u001b[0m\u001b[0;34m(\u001b[0m\u001b[0mX\u001b[0m\u001b[0;34m,\u001b[0m \u001b[0;34m**\u001b[0m\u001b[0mfit_params\u001b[0m\u001b[0;34m)\u001b[0m\u001b[0;34m.\u001b[0m\u001b[0mtransform\u001b[0m\u001b[0;34m(\u001b[0m\u001b[0mX\u001b[0m\u001b[0;34m)\u001b[0m\u001b[0;34m\u001b[0m\u001b[0;34m\u001b[0m\u001b[0m\n\u001b[0m\u001b[1;32m    518\u001b[0m         \u001b[0;32melse\u001b[0m\u001b[0;34m:\u001b[0m\u001b[0;34m\u001b[0m\u001b[0;34m\u001b[0m\u001b[0m\n\u001b[1;32m    519\u001b[0m             \u001b[0;31m# fit method of arity 2 (supervised transformation)\u001b[0m\u001b[0;34m\u001b[0m\u001b[0;34m\u001b[0m\u001b[0;34m\u001b[0m\u001b[0m\n",
      "\u001b[0;32m~/anaconda3/lib/python3.6/site-packages/sklearn/preprocessing/data.py\u001b[0m in \u001b[0;36mfit\u001b[0;34m(self, X, y)\u001b[0m\n\u001b[1;32m    588\u001b[0m         \u001b[0;31m# Reset internal state before fitting\u001b[0m\u001b[0;34m\u001b[0m\u001b[0;34m\u001b[0m\u001b[0;34m\u001b[0m\u001b[0m\n\u001b[1;32m    589\u001b[0m         \u001b[0mself\u001b[0m\u001b[0;34m.\u001b[0m\u001b[0m_reset\u001b[0m\u001b[0;34m(\u001b[0m\u001b[0;34m)\u001b[0m\u001b[0;34m\u001b[0m\u001b[0;34m\u001b[0m\u001b[0m\n\u001b[0;32m--> 590\u001b[0;31m         \u001b[0;32mreturn\u001b[0m \u001b[0mself\u001b[0m\u001b[0;34m.\u001b[0m\u001b[0mpartial_fit\u001b[0m\u001b[0;34m(\u001b[0m\u001b[0mX\u001b[0m\u001b[0;34m,\u001b[0m \u001b[0my\u001b[0m\u001b[0;34m)\u001b[0m\u001b[0;34m\u001b[0m\u001b[0;34m\u001b[0m\u001b[0m\n\u001b[0m\u001b[1;32m    591\u001b[0m \u001b[0;34m\u001b[0m\u001b[0m\n\u001b[1;32m    592\u001b[0m     \u001b[0;32mdef\u001b[0m \u001b[0mpartial_fit\u001b[0m\u001b[0;34m(\u001b[0m\u001b[0mself\u001b[0m\u001b[0;34m,\u001b[0m \u001b[0mX\u001b[0m\u001b[0;34m,\u001b[0m \u001b[0my\u001b[0m\u001b[0;34m=\u001b[0m\u001b[0;32mNone\u001b[0m\u001b[0;34m)\u001b[0m\u001b[0;34m:\u001b[0m\u001b[0;34m\u001b[0m\u001b[0;34m\u001b[0m\u001b[0m\n",
      "\u001b[0;32m~/anaconda3/lib/python3.6/site-packages/sklearn/preprocessing/data.py\u001b[0m in \u001b[0;36mpartial_fit\u001b[0;34m(self, X, y)\u001b[0m\n\u001b[1;32m    610\u001b[0m         \"\"\"\n\u001b[1;32m    611\u001b[0m         X = check_array(X, accept_sparse=('csr', 'csc'), copy=self.copy,\n\u001b[0;32m--> 612\u001b[0;31m                         warn_on_dtype=True, estimator=self, dtype=FLOAT_DTYPES)\n\u001b[0m\u001b[1;32m    613\u001b[0m \u001b[0;34m\u001b[0m\u001b[0m\n\u001b[1;32m    614\u001b[0m         \u001b[0;31m# Even in the case of `with_mean=False`, we update the mean anyway\u001b[0m\u001b[0;34m\u001b[0m\u001b[0;34m\u001b[0m\u001b[0;34m\u001b[0m\u001b[0m\n",
      "\u001b[0;32m~/anaconda3/lib/python3.6/site-packages/sklearn/utils/validation.py\u001b[0m in \u001b[0;36mcheck_array\u001b[0;34m(array, accept_sparse, dtype, order, copy, force_all_finite, ensure_2d, allow_nd, ensure_min_samples, ensure_min_features, warn_on_dtype, estimator)\u001b[0m\n\u001b[1;32m    431\u001b[0m                                       force_all_finite)\n\u001b[1;32m    432\u001b[0m     \u001b[0;32melse\u001b[0m\u001b[0;34m:\u001b[0m\u001b[0;34m\u001b[0m\u001b[0;34m\u001b[0m\u001b[0m\n\u001b[0;32m--> 433\u001b[0;31m         \u001b[0marray\u001b[0m \u001b[0;34m=\u001b[0m \u001b[0mnp\u001b[0m\u001b[0;34m.\u001b[0m\u001b[0marray\u001b[0m\u001b[0;34m(\u001b[0m\u001b[0marray\u001b[0m\u001b[0;34m,\u001b[0m \u001b[0mdtype\u001b[0m\u001b[0;34m=\u001b[0m\u001b[0mdtype\u001b[0m\u001b[0;34m,\u001b[0m \u001b[0morder\u001b[0m\u001b[0;34m=\u001b[0m\u001b[0morder\u001b[0m\u001b[0;34m,\u001b[0m \u001b[0mcopy\u001b[0m\u001b[0;34m=\u001b[0m\u001b[0mcopy\u001b[0m\u001b[0;34m)\u001b[0m\u001b[0;34m\u001b[0m\u001b[0;34m\u001b[0m\u001b[0m\n\u001b[0m\u001b[1;32m    434\u001b[0m \u001b[0;34m\u001b[0m\u001b[0m\n\u001b[1;32m    435\u001b[0m         \u001b[0;32mif\u001b[0m \u001b[0mensure_2d\u001b[0m\u001b[0;34m:\u001b[0m\u001b[0;34m\u001b[0m\u001b[0;34m\u001b[0m\u001b[0m\n",
      "\u001b[0;31mValueError\u001b[0m: could not convert string to float: 'Female'"
     ]
    }
   ],
   "source": [
    "# Feature scaling 特徵工程\n",
    "from sklearn.preprocessing import StandardScaler\n",
    "sc = StandardScaler()\n",
    "X_train = sc.fit_transform(x_train_CreditCard)\n",
    "X_test = sc.fit_transform(x_test_CreditCard)"
   ]
  },
  {
   "cell_type": "code",
   "execution_count": null,
   "metadata": {},
   "outputs": [],
   "source": [
    "#Random Forest\n",
    "from sklearn.ensemble import RandomForestClassifier\n",
    "from sklearn import metrics\n",
    "from sklearn.metrics import accuracy_score\n",
    "#accuracy_score 預測準確度\n",
    "\n",
    "#Create the model\n",
    "model_CreditCard_rf= RandomForestClassifier(n_estimators=100)\n",
    "\n",
    "#Fit the model\n",
    "model_CreditCard_rf.fit(X=X_train,y=y_train_CreditCard)\n",
    "\n",
    "#Prediction\n",
    "predicion_CreditCard_rf = model_CreditCard_rf.predict(X_test)\n",
    "\n",
    "#model_CreditCard_rf.score(x_train_CreditCard, x_test_CreditCard)"
   ]
  },
  {
   "cell_type": "code",
   "execution_count": null,
   "metadata": {},
   "outputs": [],
   "source": [
    "print(model_CreditCard_rf.predict(X_test))\n",
    "print(model_CreditCard_rf.predict_proba(X_test))"
   ]
  },
  {
   "cell_type": "code",
   "execution_count": null,
   "metadata": {},
   "outputs": [],
   "source": [
    "#Clasification report\n",
    "results_CreditCard_rf=metrics.classification_report(y_true=y_test_CreditCard, y_pred=predicion_CreditCard_rf)\n",
    "print(results_CreditCard_rf)"
   ]
  },
  {
   "cell_type": "code",
   "execution_count": null,
   "metadata": {},
   "outputs": [],
   "source": [
    "import matplotlib.pyplot as plt\n",
    "import seaborn as sns \n",
    "#Confusion matrix\n",
    "cm_rf=metrics.confusion_matrix(y_true=y_test_CreditCard, y_pred=predicion_CreditCard_rf)\n",
    "f,ax = plt.subplots(figsize=(5, 4))\n",
    "sns.heatmap(cm_rf, annot=True, linewidths=.5, fmt= '.1f',ax=ax);\n"
   ]
  },
  {
   "cell_type": "code",
   "execution_count": null,
   "metadata": {},
   "outputs": [],
   "source": [
    "#預測準確度\n",
    "accuracy_score(y_test_CreditCard, predicion_CreditCard_rf)"
   ]
  },
  {
   "cell_type": "code",
   "execution_count": null,
   "metadata": {},
   "outputs": [],
   "source": [
    "#外匯\n",
    "#機器學習 Machine Learning\n",
    "#切分訓練與驗證資料 Separate data in training and validation set\n",
    "\n",
    "from sklearn.model_selection import train_test_split\n",
    "#train_test_split 切分訓練資料（training samples）與測試資料（testing samples）\n",
    "from sklearn.model_selection import cross_val_score\n",
    "#cross_val_score對資料集進行交叉驗證並印出準確值 \n",
    "\n",
    "drop_fx = 'fx_BuyFreq'\n",
    "#把label切分出來\n",
    "x_train_ForEx=df_ForEx_train.drop(drop_fx,axis=1)\n",
    "x_test_ForEx=df_ForEx_test.drop(drop_fx,axis=1)\n",
    "y_train_ForEx=df_ForEx_train[drop_fx]\n",
    "y_test_ForEx=df_ForEx_test[drop_fx]"
   ]
  },
  {
   "cell_type": "code",
   "execution_count": null,
   "metadata": {},
   "outputs": [],
   "source": [
    "# Feature scaling 特徵工程\n",
    "from sklearn.preprocessing import StandardScaler\n",
    "sc = StandardScaler()\n",
    "X_train = sc.fit_transform(x_train_ForEx)\n",
    "X_test = sc.fit_transform(x_test_ForEx)"
   ]
  },
  {
   "cell_type": "code",
   "execution_count": null,
   "metadata": {},
   "outputs": [],
   "source": [
    "#Random Forest\n",
    "from sklearn.ensemble import RandomForestClassifier\n",
    "from sklearn import metrics\n",
    "from sklearn.metrics import accuracy_score\n",
    "#accuracy_score 預測準確度\n",
    "\n",
    "#Create the model\n",
    "model_ForEx_rf= RandomForestClassifier(n_estimators=100)\n",
    "\n",
    "#Fit the model\n",
    "model_ForEx_rf.fit(X=X_train,y=y_train_ForEx)\n",
    "\n",
    "#Prediction\n",
    "predicion_ForEx_rf = model_ForEx_rf.predict(X_test)\n",
    "\n",
    "#model_CreditCard_rf.score(x_train_CreditCard, x_test_CreditCard)"
   ]
  },
  {
   "cell_type": "code",
   "execution_count": null,
   "metadata": {},
   "outputs": [],
   "source": [
    "print(model_ForEx_rf.predict(X_test))\n",
    "print(model_ForEx_rf.predict_proba(X_test))"
   ]
  },
  {
   "cell_type": "code",
   "execution_count": null,
   "metadata": {},
   "outputs": [],
   "source": [
    "#Clasification report\n",
    "results_ForEx_rf=metrics.classification_report(y_true=y_test_ForEx, y_pred=predicion_ForEx_rf)\n",
    "print(results_ForEx_rf)"
   ]
  },
  {
   "cell_type": "code",
   "execution_count": null,
   "metadata": {},
   "outputs": [],
   "source": [
    "#Confusion matrix\n",
    "cm_rf=metrics.confusion_matrix(y_true=y_test_ForEx, y_pred=predicion_ForEx_rf)\n",
    "f,ax = plt.subplots(figsize=(5, 4))\n",
    "sns.heatmap(cm_rf, annot=True, linewidths=.5, fmt= '.1f',ax=ax);\n",
    "#預測準確度\n",
    "accuracy_score(y_test_ForEx, predicion_ForEx_rf)"
   ]
  },
  {
   "cell_type": "code",
   "execution_count": null,
   "metadata": {},
   "outputs": [],
   "source": [
    "#信託\n",
    "#機器學習 Machine Learning\n",
    "#切分訓練與驗證資料 Separate data in training and validation set\n",
    "\n",
    "from sklearn.model_selection import train_test_split\n",
    "#train_test_split 切分訓練資料（training samples）與測試資料（testing samples）\n",
    "from sklearn.model_selection import cross_val_score\n",
    "#cross_val_score對資料集進行交叉驗證並印出準確值 \n",
    "\n",
    "drop_wm='wm_BuyFreq'\n",
    "#把label切分出來\n",
    "x_train_Trust=df_Trust_train.drop(drop_wm,axis=1)\n",
    "x_test_Trust=df_Trust_test.drop(drop_wm,axis=1)\n",
    "y_train_Trust=df_Trust_train[drop_wm]\n",
    "y_test_Trust=df_Trust_test[drop_wm]"
   ]
  },
  {
   "cell_type": "code",
   "execution_count": null,
   "metadata": {},
   "outputs": [],
   "source": [
    "df_Trust_train.head()"
   ]
  },
  {
   "cell_type": "code",
   "execution_count": null,
   "metadata": {},
   "outputs": [],
   "source": [
    "# Feature scaling 特徵工程\n",
    "from sklearn.preprocessing import StandardScaler\n",
    "sc = StandardScaler()\n",
    "X_train = sc.fit_transform(x_train_Trust)\n",
    "X_test = sc.fit_transform(x_test_Trust)"
   ]
  },
  {
   "cell_type": "code",
   "execution_count": null,
   "metadata": {},
   "outputs": [],
   "source": [
    "#Random Forest\n",
    "from sklearn.ensemble import RandomForestClassifier\n",
    "from sklearn import metrics\n",
    "from sklearn.metrics import accuracy_score\n",
    "#accuracy_score 預測準確度\n",
    "\n",
    "#Create the model\n",
    "model_Trust_rf= RandomForestClassifier(n_estimators=100)\n",
    "\n",
    "#Fit the model\n",
    "model_Trust_rf.fit(X=X_train,y=y_train_Trust)\n",
    "\n",
    "#Prediction\n",
    "predicion_Trust_rf = model_Trust_rf.predict(X_test)\n",
    "\n",
    "#model_CreditCard_rf.score(x_train_CreditCard, x_test_CreditCard)"
   ]
  },
  {
   "cell_type": "code",
   "execution_count": null,
   "metadata": {},
   "outputs": [],
   "source": [
    "print(model_Trust_rf.predict(X_test))\n",
    "print(model_Trust_rf.predict_proba(X_test))"
   ]
  },
  {
   "cell_type": "code",
   "execution_count": null,
   "metadata": {},
   "outputs": [],
   "source": [
    "#Clasification report\n",
    "results_Trust_rf=metrics.classification_report(y_true=y_test_Trust, y_pred=predicion_Trust_rf)\n",
    "print(results_Trust_rf)"
   ]
  },
  {
   "cell_type": "code",
   "execution_count": null,
   "metadata": {},
   "outputs": [],
   "source": [
    "#Confusion matrix\n",
    "cm_rf=metrics.confusion_matrix(y_true=y_test_Trust, y_pred=predicion_Trust_rf)\n",
    "f,ax = plt.subplots(figsize=(5, 4))\n",
    "sns.heatmap(cm_rf, annot=True, linewidths=.5, fmt= '.1f',ax=ax);\n",
    "#預測準確度\n",
    "accuracy_score(y_test_Trust, predicion_Trust_rf)"
   ]
  },
  {
   "cell_type": "code",
   "execution_count": null,
   "metadata": {},
   "outputs": [],
   "source": [
    "#信貸\n",
    "#機器學習 Machine Learning\n",
    "#切分訓練與驗證資料 Separate data in training and validation set\n",
    "\n",
    "from sklearn.model_selection import train_test_split\n",
    "#train_test_split 切分訓練資料（training samples）與測試資料（testing samples）\n",
    "from sklearn.model_selection import cross_val_score\n",
    "#cross_val_score對資料集進行交叉驗證並印出準確值 \n",
    "\n",
    "drop_ln='ln_BuyFreq'\n",
    "\n",
    "#切分資料 test_size為30%\n",
    "x_train_Loan=df_Loan_train.drop(drop_ln,axis=1)\n",
    "x_test_Loan=df_Loan_test.drop(drop_ln,axis=1)\n",
    "y_train_Loan=df_Loan_train[drop_ln]\n",
    "y_test_Loan=df_Loan_test[drop_ln]"
   ]
  },
  {
   "cell_type": "code",
   "execution_count": null,
   "metadata": {},
   "outputs": [],
   "source": [
    "# Feature scaling 特徵工程\n",
    "from sklearn.preprocessing import StandardScaler\n",
    "sc = StandardScaler()\n",
    "X_train = sc.fit_transform(x_train_Loan)\n",
    "X_test = sc.fit_transform(x_test_Loan)"
   ]
  },
  {
   "cell_type": "code",
   "execution_count": null,
   "metadata": {},
   "outputs": [],
   "source": [
    "#Random Forest\n",
    "from sklearn.ensemble import RandomForestClassifier\n",
    "from sklearn import metrics\n",
    "from sklearn.metrics import accuracy_score\n",
    "#accuracy_score 預測準確度\n",
    "\n",
    "#Create the model\n",
    "model_Loan_rf= RandomForestClassifier(n_estimators=100)\n",
    "\n",
    "#Fit the model\n",
    "model_Loan_rf.fit(X=X_train,y=y_train_Loan)\n",
    "\n",
    "#Prediction\n",
    "predicion_Loan_rf = model_Loan_rf.predict(X_test)\n",
    "\n",
    "#model_CreditCard_rf.score(x_train_CreditCard, x_test_CreditCard)"
   ]
  },
  {
   "cell_type": "code",
   "execution_count": null,
   "metadata": {},
   "outputs": [],
   "source": [
    "print(model_Loan_rf.predict(X_test))\n",
    "print(model_Loan_rf.predict_proba(X_test))"
   ]
  },
  {
   "cell_type": "code",
   "execution_count": null,
   "metadata": {},
   "outputs": [],
   "source": [
    "#Clasification report\n",
    "results_Loan_rf=metrics.classification_report(y_true=y_test_Loan, y_pred=predicion_Loan_rf)\n",
    "print(results_Loan_rf)"
   ]
  },
  {
   "cell_type": "code",
   "execution_count": null,
   "metadata": {},
   "outputs": [],
   "source": [
    "#Confusion matrix\n",
    "cm_rf=metrics.confusion_matrix(y_true=y_test_Loan, y_pred=predicion_Loan_rf)\n",
    "f,ax = plt.subplots(figsize=(5, 4))\n",
    "sns.heatmap(cm_rf, annot=True, linewidths=.5, fmt= '.1f',ax=ax);\n",
    "#預測準確度\n",
    "accuracy_score(y_test_Loan, predicion_Loan_rf)"
   ]
  },
  {
   "cell_type": "code",
   "execution_count": null,
   "metadata": {},
   "outputs": [],
   "source": [
    "print('CreditCard',predicion_CreditCard_rf)\n",
    "print('ForEx',predicion_ForEx_rf)\n",
    "print('Trust',predicion_Trust_rf)\n",
    "print('Loan',predicion_Loan_rf)"
   ]
  },
  {
   "cell_type": "code",
   "execution_count": null,
   "metadata": {},
   "outputs": [],
   "source": [
    "# 把每一格更新一下\n",
    "\n",
    "answer['CC_IND']=predicion_CreditCard_rf\n",
    "answer['FX_IND']=predicion_ForEx_rf\n",
    "answer['LN_IND']=predicion_Loan_rf\n",
    "answer['WM_IND']=predicion_Trust_rf\n"
   ]
  },
  {
   "cell_type": "code",
   "execution_count": null,
   "metadata": {},
   "outputs": [],
   "source": [
    "# 要交出去的檔案\n",
    "answer.to_csv('../Answer/TBN_Y_ZERO.csv')"
   ]
  }
 ],
 "metadata": {
  "kernelspec": {
   "display_name": "Python 3",
   "language": "python",
   "name": "python3"
  },
  "language_info": {
   "codemirror_mode": {
    "name": "ipython",
    "version": 3
   },
   "file_extension": ".py",
   "mimetype": "text/x-python",
   "name": "python",
   "nbconvert_exporter": "python",
   "pygments_lexer": "ipython3",
   "version": "3.6.8"
  }
 },
 "nbformat": 4,
 "nbformat_minor": 2
}
